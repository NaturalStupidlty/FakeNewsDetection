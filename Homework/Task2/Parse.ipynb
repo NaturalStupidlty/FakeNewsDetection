{
 "cells": [
  {
   "cell_type": "markdown",
   "id": "3bdd1679",
   "metadata": {
    "pycharm": {
     "name": "#%% md\n"
    }
   },
   "source": [
    "1. Parse https://rusdisinfo.voxukraine.org/"
   ]
  },
  {
   "cell_type": "code",
   "execution_count": 363,
   "id": "653bf550",
   "metadata": {
    "pycharm": {
     "name": "#%%\n"
    }
   },
   "outputs": [],
   "source": [
    "import time\n",
    "import pandas as pd\n",
    "\n",
    "from bs4 import BeautifulSoup\n",
    "from selenium import webdriver\n",
    "from selenium.webdriver.safari.options import Options\n",
    "from selenium.webdriver.common.by import By\n",
    "from selenium.webdriver.support.ui import WebDriverWait\n",
    "from selenium.webdriver.support import expected_conditions as EC\n",
    "from django.core.validators import URLValidator\n",
    "from django.core.exceptions import ValidationError"
   ]
  },
  {
   "cell_type": "code",
   "execution_count": 364,
   "id": "0104be6d",
   "metadata": {
    "pycharm": {
     "name": "#%%\n"
    }
   },
   "outputs": [],
   "source": [
    "url = \"https://rusdisinfo.voxukraine.org/\""
   ]
  },
  {
   "cell_type": "code",
   "execution_count": 396,
   "id": "6df0dc99",
   "metadata": {
    "pycharm": {
     "name": "#%%\n"
    }
   },
   "outputs": [],
   "source": [
    "def get_links(url):\n",
    "    options = Options()\n",
    "    options.add_argument(\"--headless\")\n",
    "\n",
    "    driver = webdriver.Safari(options=options)\n",
    "    driver.get(url)\n",
    "\n",
    "    page = driver.page_source\n",
    "    soup = BeautifulSoup(''.join(page), 'html.parser')\n",
    "\n",
    "    titles = soup.find_all('a')\n",
    "    links = []\n",
    "\n",
    "    start = \"/narratives/\"\n",
    "    for title in titles:\n",
    "        if title[\"href\"].startswith(start):\n",
    "            links.append(title[\"href\"])\n",
    "    \n",
    "    links_df = pd.DataFrame(columns = [\"News\", \"Fake\"])\n",
    "\n",
    "    count = 0\n",
    "    for i, link in enumerate(links):\n",
    "        driver.get(url + link)\n",
    "        sub_page = driver.page_source\n",
    "        sub_soup = BeautifulSoup(''.join(sub_page), 'html.parser')\n",
    "\n",
    "        headers = sub_soup.find_all('h3', class_='Narrative_fakeLink___YbTe')\n",
    "\n",
    "        \n",
    "        for j, header in enumerate(headers):\n",
    "            driver.find_element(By.XPATH, f'//*[@id=\"__next\"]/main/div[2]/div[2]/h3[{j+1}]').click()\n",
    "\n",
    "            sub_page = driver.page_source\n",
    "            sub_soup = BeautifulSoup(''.join(sub_page), 'html.parser')\n",
    "            fakes = sub_soup.find_all('a', target='_blank')\n",
    "\n",
    "            for fake in fakes:\n",
    "                if ((links_df[links_df[\"News\"] == fake[\"href\"]].empty)):\n",
    "                    links_df.loc[count, \"News\"] = fake[\"href\"]\n",
    "                    count += 1\n",
    "            driver.find_element(By.XPATH, f'//*[@id=\"__next\"]/main/div[2]/div[2]/h3[{j+1}]').click()\n",
    "    \n",
    "    driver.quit()\n",
    "    links_df['Fake'] = 1\n",
    "    \n",
    "    return links_df.fillna(\"\")"
   ]
  },
  {
   "cell_type": "code",
   "execution_count": 397,
   "id": "1e987746",
   "metadata": {
    "pycharm": {
     "name": "#%%\n"
    }
   },
   "outputs": [],
   "source": [
    "df = get_links(url)"
   ]
  },
  {
   "cell_type": "code",
   "execution_count": 398,
   "id": "49498013",
   "metadata": {
    "pycharm": {
     "name": "#%%\n"
    }
   },
   "outputs": [
    {
     "data": {
      "text/html": [
       "<div>\n",
       "<style scoped>\n",
       "    .dataframe tbody tr th:only-of-type {\n",
       "        vertical-align: middle;\n",
       "    }\n",
       "\n",
       "    .dataframe tbody tr th {\n",
       "        vertical-align: top;\n",
       "    }\n",
       "\n",
       "    .dataframe thead th {\n",
       "        text-align: right;\n",
       "    }\n",
       "</style>\n",
       "<table border=\"1\" class=\"dataframe\">\n",
       "  <thead>\n",
       "    <tr style=\"text-align: right;\">\n",
       "      <th></th>\n",
       "      <th>News</th>\n",
       "      <th>Fake</th>\n",
       "    </tr>\n",
       "  </thead>\n",
       "  <tbody>\n",
       "    <tr>\n",
       "      <th>0</th>\n",
       "      <td>https://it.sputniknews.com/20211209/putin-quel...</td>\n",
       "      <td>1</td>\n",
       "    </tr>\n",
       "    <tr>\n",
       "      <th>1</th>\n",
       "      <td>https://www.anti-spiegel.ru/2021/krieg-im-donb...</td>\n",
       "      <td>1</td>\n",
       "    </tr>\n",
       "    <tr>\n",
       "      <th>2</th>\n",
       "      <td>https://de.rt.com/meinung/129862-lebkuchenhexe...</td>\n",
       "      <td>1</td>\n",
       "    </tr>\n",
       "    <tr>\n",
       "      <th>3</th>\n",
       "      <td>https://www.wsws.org/de/articles/2021/04/23/uk...</td>\n",
       "      <td>1</td>\n",
       "    </tr>\n",
       "    <tr>\n",
       "      <th>4</th>\n",
       "      <td>https://de.rt.com/meinung/128478-russland-und-...</td>\n",
       "      <td>1</td>\n",
       "    </tr>\n",
       "    <tr>\n",
       "      <th>...</th>\n",
       "      <td>...</td>\n",
       "      <td>...</td>\n",
       "    </tr>\n",
       "    <tr>\n",
       "      <th>408</th>\n",
       "      <td>https://www.controinformazione.info/gli-accord...</td>\n",
       "      <td>1</td>\n",
       "    </tr>\n",
       "    <tr>\n",
       "      <th>409</th>\n",
       "      <td>https://it.sputniknews.com/20220126/Russia-ape...</td>\n",
       "      <td>1</td>\n",
       "    </tr>\n",
       "    <tr>\n",
       "      <th>410</th>\n",
       "      <td>https://it.sputniknews.com/20220126/rappresent...</td>\n",
       "      <td>1</td>\n",
       "    </tr>\n",
       "    <tr>\n",
       "      <th>411</th>\n",
       "      <td>https://it.sputniknews.com/20200311/al-via-in-...</td>\n",
       "      <td>1</td>\n",
       "    </tr>\n",
       "    <tr>\n",
       "      <th>412</th>\n",
       "      <td>https://it.sputniknews.com/20200218/mh17-docum...</td>\n",
       "      <td>1</td>\n",
       "    </tr>\n",
       "  </tbody>\n",
       "</table>\n",
       "<p>413 rows × 2 columns</p>\n",
       "</div>"
      ],
      "text/plain": [
       "                                                  News  Fake\n",
       "0    https://it.sputniknews.com/20211209/putin-quel...     1\n",
       "1    https://www.anti-spiegel.ru/2021/krieg-im-donb...     1\n",
       "2    https://de.rt.com/meinung/129862-lebkuchenhexe...     1\n",
       "3    https://www.wsws.org/de/articles/2021/04/23/uk...     1\n",
       "4    https://de.rt.com/meinung/128478-russland-und-...     1\n",
       "..                                                 ...   ...\n",
       "408  https://www.controinformazione.info/gli-accord...     1\n",
       "409  https://it.sputniknews.com/20220126/Russia-ape...     1\n",
       "410  https://it.sputniknews.com/20220126/rappresent...     1\n",
       "411  https://it.sputniknews.com/20200311/al-via-in-...     1\n",
       "412  https://it.sputniknews.com/20200218/mh17-docum...     1\n",
       "\n",
       "[413 rows x 2 columns]"
      ]
     },
     "execution_count": 398,
     "metadata": {},
     "output_type": "execute_result"
    }
   ],
   "source": [
    "df"
   ]
  },
  {
   "cell_type": "markdown",
   "id": "cb8fc864",
   "metadata": {
    "pycharm": {
     "name": "#%% md\n"
    }
   },
   "source": [
    "2. Write a function to parse news pages (choose your own media or try to make a general one)"
   ]
  },
  {
   "cell_type": "code",
   "execution_count": 399,
   "id": "8ee36789",
   "metadata": {
    "pycharm": {
     "name": "#%%\n"
    }
   },
   "outputs": [],
   "source": [
    "def parse(link):\n",
    "    options = Options()\n",
    "    options.add_argument(\"--headless\")\n",
    "    driver = webdriver.Safari(options=options)\n",
    "    \n",
    "    \n",
    "    val = URLValidator()\n",
    "    try:\n",
    "        val(f'{link}')\n",
    "    except:\n",
    "        driver.quit()\n",
    "        return \"\"\n",
    "    \n",
    "    driver.execute_script(f\"window.location.href = '{link}'\")\n",
    "\n",
    "    time.sleep(7)\n",
    "\n",
    "    page = driver.page_source\n",
    "    soup = BeautifulSoup(''.join(page), 'html.parser')\n",
    "\n",
    "    articles = soup.find_all('p')\n",
    "    articles_text = []\n",
    "\n",
    "    for article in articles:\n",
    "        articles_text.append(article.text)\n",
    "\n",
    "    driver.quit()\n",
    "    return articles_text"
   ]
  },
  {
   "cell_type": "code",
   "execution_count": 400,
   "id": "753a707e",
   "metadata": {
    "pycharm": {
     "name": "#%%\n"
    }
   },
   "outputs": [],
   "source": [
    "news = parse(\"https://www.bbc.com/news\")"
   ]
  },
  {
   "cell_type": "code",
   "execution_count": 401,
   "id": "2316af74",
   "metadata": {
    "pycharm": {
     "name": "#%%\n"
    }
   },
   "outputs": [
    {
     "data": {
      "text/plain": [
       "['Rescue teams in both countries are searching for survivors under the rubble after a 7.8-magnitude quake, and subsequent 7.5 tremor, caused hundreds of buildings to collapse.',\n",
       " 'The death toll continues to rise after two powerful tremors struck as people slept.',\n",
       " 'Five people are thought to have died as a particularly bloody period between the two sides continues.',\n",
       " 'A large Russian attack is likely to come from the east and south, Kyiv says.',\n",
       " 'A Chinese spokeswoman says the aircraft is for civilian use, but \"deviated\" from its intended route.',\n",
       " 'The 16-year-old was riding jet skis and swimming with friends when she was attacked, police say.',\n",
       " 'A British woman tells the BBC how the influencer persuaded her to work for his webcam business.',\n",
       " \"The novelist was stabbed at a talk in the US last year and says he's found it hard to write since.\",\n",
       " 'An evacuation order is in place within one-mile radius of the scene amid fears of flying shrapnel.',\n",
       " 'The Premier League charges Manchester City with more than 100 breaches of its financial rules following a four-year investigation.',\n",
       " 'A total of 47 pro-democracy activists including Joshua Wong are connected to the landmark case.',\n",
       " 'Iranians involved in anti-government demos are among those set to be released.',\n",
       " 'A total of 47 pro-democracy activists including Joshua Wong are connected to the landmark case.',\n",
       " 'Iranians involved in anti-government demos are among those set to be released.',\n",
       " 'The accused allegedly tricked people into counting trains in Delhi, having promised them work.',\n",
       " 'The building - which contains 600 urns with the ashes of cremated people - has been extensively damaged.',\n",
       " 'In a joint statement the motor industry giants said they had \"rebalanced\" their relationship.',\n",
       " 'The latest global news, sport, weather and documentaries',\n",
       " 'Stories from around the world',\n",
       " 'Email us at haveyoursay@bbc.co.uk',\n",
       " 'Follow Have Your Say on Twitter',\n",
       " 'Why you can trust BBC News']"
      ]
     },
     "execution_count": 401,
     "metadata": {},
     "output_type": "execute_result"
    }
   ],
   "source": [
    "news"
   ]
  },
  {
   "cell_type": "code",
   "execution_count": 402,
   "id": "74b2c5be",
   "metadata": {
    "pycharm": {
     "name": "#%%\n"
    }
   },
   "outputs": [],
   "source": [
    "# df['News'] = df['News'].apply(parse)"
   ]
  },
  {
   "cell_type": "code",
   "execution_count": null,
   "id": "55afb546",
   "metadata": {
    "pycharm": {
     "name": "#%%\n"
    }
   },
   "outputs": [],
   "source": []
  },
  {
   "cell_type": "code",
   "execution_count": null,
   "id": "980a02c8",
   "metadata": {
    "pycharm": {
     "name": "#%%\n"
    }
   },
   "outputs": [],
   "source": []
  },
  {
   "cell_type": "code",
   "execution_count": null,
   "id": "bc7a1bc4",
   "metadata": {
    "pycharm": {
     "name": "#%%\n"
    }
   },
   "outputs": [],
   "source": []
  },
  {
   "cell_type": "code",
   "execution_count": null,
   "id": "7a1190a6",
   "metadata": {
    "pycharm": {
     "name": "#%%\n"
    }
   },
   "outputs": [],
   "source": []
  }
 ],
 "metadata": {
  "kernelspec": {
   "display_name": "Python 3.9 (tf)",
   "language": "python",
   "name": "tensorflow"
  },
  "language_info": {
   "codemirror_mode": {
    "name": "ipython",
    "version": 3
   },
   "file_extension": ".py",
   "mimetype": "text/x-python",
   "name": "python",
   "nbconvert_exporter": "python",
   "pygments_lexer": "ipython3",
   "version": "3.9.15"
  }
 },
 "nbformat": 4,
 "nbformat_minor": 5
}