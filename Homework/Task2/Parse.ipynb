{
 "cells": [
  {
   "cell_type": "markdown",
   "id": "3bdd1679",
   "metadata": {},
   "source": [
    "1. Parse https://rusdisinfo.voxukraine.org/"
   ]
  },
  {
   "cell_type": "code",
   "execution_count": 355,
   "id": "653bf550",
   "metadata": {},
   "outputs": [],
   "source": [
    "import time\n",
    "import pandas as pd\n",
    "\n",
    "from bs4 import BeautifulSoup\n",
    "from selenium import webdriver\n",
    "from selenium.webdriver.safari.options import Options\n",
    "from selenium.webdriver.common.by import By\n",
    "from selenium.webdriver.support.ui import WebDriverWait\n",
    "from selenium.webdriver.support import expected_conditions as EC\n",
    "from django.core.validators import URLValidator\n",
    "from django.core.exceptions import ValidationError"
   ]
  },
  {
   "cell_type": "code",
   "execution_count": 356,
   "id": "0104be6d",
   "metadata": {},
   "outputs": [],
   "source": [
    "url = \"https://rusdisinfo.voxukraine.org/\""
   ]
  },
  {
   "cell_type": "code",
   "execution_count": 357,
   "id": "6df0dc99",
   "metadata": {},
   "outputs": [],
   "source": [
    "def get_data(url):\n",
    "    options = Options()\n",
    "    options.add_argument(\"--headless\")\n",
    "\n",
    "    driver = webdriver.Safari(options=options)\n",
    "    driver.get(url)\n",
    "\n",
    "    page = driver.page_source\n",
    "    soup = BeautifulSoup(''.join(page), 'html.parser')\n",
    "\n",
    "    titles = soup.find_all('a')\n",
    "    links = []\n",
    "\n",
    "    start = \"/narratives/\"\n",
    "    for title in titles:\n",
    "        if title[\"href\"].startswith(start):\n",
    "            links.append(title[\"href\"])\n",
    "    \n",
    "    df = pd.DataFrame(columns=['News', 'Fake'])\n",
    "    \n",
    "    count = 0\n",
    "    for i, link in enumerate(links):\n",
    "        driver.get(url + link)\n",
    "        sub_page = driver.page_source\n",
    "        sub_soup = BeautifulSoup(''.join(sub_page), 'html.parser')\n",
    "\n",
    "        headers = sub_soup.find_all('h3', class_='Narrative_fakeLink___YbTe')\n",
    "\n",
    "        for j, header in enumerate(headers):\n",
    "            driver.find_element(By.XPATH, f'//*[@id=\"__next\"]/main/div[2]/div[2]/h3[{j+1}]').click()\n",
    "\n",
    "            sub_page = driver.page_source\n",
    "            sub_soup = BeautifulSoup(''.join(sub_page), 'html.parser')\n",
    "            text = sub_soup.find_all('div', class_='Narrative_Debunking__gRBl1')\n",
    "            fake_text = sub_soup.find_all('h3', class_='Narrative_fakeLink___YbTe')\n",
    "            \n",
    "            df.loc[count, 'News'] = text[0].text\n",
    "            df.loc[count, 'Fake'] = 0\n",
    "            df.loc[count+1, 'News'] = fake_text[0].text\n",
    "            df.loc[count+1, 'Fake'] = 1\n",
    "            \n",
    "            count += 2\n",
    "            driver.find_element(By.XPATH, f'//*[@id=\"__next\"]/main/div[2]/div[2]/h3[{j+1}]').click()\n",
    "    \n",
    "    driver.quit()\n",
    "    \n",
    "    return df"
   ]
  },
  {
   "cell_type": "code",
   "execution_count": 358,
   "id": "1e987746",
   "metadata": {},
   "outputs": [],
   "source": [
    "data = get_unfake_data(url)"
   ]
  },
  {
   "cell_type": "code",
   "execution_count": 359,
   "id": "49498013",
   "metadata": {},
   "outputs": [
    {
     "data": {
      "text/html": [
       "<div>\n",
       "<style scoped>\n",
       "    .dataframe tbody tr th:only-of-type {\n",
       "        vertical-align: middle;\n",
       "    }\n",
       "\n",
       "    .dataframe tbody tr th {\n",
       "        vertical-align: top;\n",
       "    }\n",
       "\n",
       "    .dataframe thead th {\n",
       "        text-align: right;\n",
       "    }\n",
       "</style>\n",
       "<table border=\"1\" class=\"dataframe\">\n",
       "  <thead>\n",
       "    <tr style=\"text-align: right;\">\n",
       "      <th></th>\n",
       "      <th>News</th>\n",
       "      <th>Fake</th>\n",
       "    </tr>\n",
       "  </thead>\n",
       "  <tbody>\n",
       "    <tr>\n",
       "      <th>0</th>\n",
       "      <td>Not the Revolution of Dignity but Russian aggr...</td>\n",
       "      <td>0</td>\n",
       "    </tr>\n",
       "    <tr>\n",
       "      <th>1</th>\n",
       "      <td>Maidan led to the separation of Donetsk and Lu...</td>\n",
       "      <td>1</td>\n",
       "    </tr>\n",
       "    <tr>\n",
       "      <th>2</th>\n",
       "      <td>Such statements are unfounded. The Ukrainian a...</td>\n",
       "      <td>0</td>\n",
       "    </tr>\n",
       "    <tr>\n",
       "      <th>3</th>\n",
       "      <td>Maidan led to the separation of Donetsk and Lu...</td>\n",
       "      <td>1</td>\n",
       "    </tr>\n",
       "    <tr>\n",
       "      <th>4</th>\n",
       "      <td>In fact, there are representatives of the extr...</td>\n",
       "      <td>0</td>\n",
       "    </tr>\n",
       "    <tr>\n",
       "      <th>...</th>\n",
       "      <td>...</td>\n",
       "      <td>...</td>\n",
       "    </tr>\n",
       "    <tr>\n",
       "      <th>133</th>\n",
       "      <td>Poroshenko has made division among churches in...</td>\n",
       "      <td>1</td>\n",
       "    </tr>\n",
       "    <tr>\n",
       "      <th>134</th>\n",
       "      <td>Ukraine has created its own Orthodox Church, w...</td>\n",
       "      <td>0</td>\n",
       "    </tr>\n",
       "    <tr>\n",
       "      <th>135</th>\n",
       "      <td>Poroshenko has made division among churches in...</td>\n",
       "      <td>1</td>\n",
       "    </tr>\n",
       "    <tr>\n",
       "      <th>136</th>\n",
       "      <td>The Malaysian Boeing over Donbass was shot dow...</td>\n",
       "      <td>0</td>\n",
       "    </tr>\n",
       "    <tr>\n",
       "      <th>137</th>\n",
       "      <td>Russia is not involved in MH17 crash; Ukraine ...</td>\n",
       "      <td>1</td>\n",
       "    </tr>\n",
       "  </tbody>\n",
       "</table>\n",
       "<p>138 rows × 2 columns</p>\n",
       "</div>"
      ],
      "text/plain": [
       "                                                  News Fake\n",
       "0    Not the Revolution of Dignity but Russian aggr...    0\n",
       "1    Maidan led to the separation of Donetsk and Lu...    1\n",
       "2    Such statements are unfounded. The Ukrainian a...    0\n",
       "3    Maidan led to the separation of Donetsk and Lu...    1\n",
       "4    In fact, there are representatives of the extr...    0\n",
       "..                                                 ...  ...\n",
       "133  Poroshenko has made division among churches in...    1\n",
       "134  Ukraine has created its own Orthodox Church, w...    0\n",
       "135  Poroshenko has made division among churches in...    1\n",
       "136  The Malaysian Boeing over Donbass was shot dow...    0\n",
       "137  Russia is not involved in MH17 crash; Ukraine ...    1\n",
       "\n",
       "[138 rows x 2 columns]"
      ]
     },
     "execution_count": 359,
     "metadata": {},
     "output_type": "execute_result"
    }
   ],
   "source": [
    "data"
   ]
  },
  {
   "cell_type": "markdown",
   "id": "cb8fc864",
   "metadata": {},
   "source": [
    "2. Write a function to parse news pages (choose your own media or try to make a general one)"
   ]
  },
  {
   "cell_type": "code",
   "execution_count": 360,
   "id": "8ee36789",
   "metadata": {},
   "outputs": [],
   "source": [
    "def parse(link):\n",
    "    options = Options()\n",
    "    options.add_argument(\"--headless\")\n",
    "    driver = webdriver.Safari(options=options)\n",
    "    \n",
    "    \n",
    "    val = URLValidator()\n",
    "    try:\n",
    "        val(f'{link}')\n",
    "    except:\n",
    "        driver.quit()\n",
    "        return \"\"\n",
    "    \n",
    "    driver.execute_script(f\"window.location.href = '{link}'\")\n",
    "\n",
    "    time.sleep(7)\n",
    "\n",
    "    page = driver.page_source\n",
    "    soup = BeautifulSoup(''.join(page), 'html.parser')\n",
    "\n",
    "    articles = soup.find_all('p')\n",
    "    articles_text = []\n",
    "\n",
    "    for article in articles:\n",
    "        articles_text.append(article.text)\n",
    "\n",
    "    driver.quit()\n",
    "    return articles_text"
   ]
  },
  {
   "cell_type": "code",
   "execution_count": 361,
   "id": "753a707e",
   "metadata": {},
   "outputs": [],
   "source": [
    "news = parse(\"https://www.bbc.com/news\")"
   ]
  },
  {
   "cell_type": "code",
   "execution_count": 362,
   "id": "2316af74",
   "metadata": {},
   "outputs": [
    {
     "data": {
      "text/plain": [
       "['Two major quakes have hit south-eastern Turkey, the first 7.8-magnitude tremor killing some 1,500 people in the country, and hundreds more in northern Syria.',\n",
       " 'The death toll continues to rise after two powerful tremors struck as people slept.',\n",
       " 'Five people are thought to have died as a particularly bloody period between the two sides continues.',\n",
       " 'A large Russian attack is likely to come from the east and south, Kyiv says.',\n",
       " 'A Chinese spokeswoman says the aircraft is for civilian use, but \"deviated\" from its intended route.',\n",
       " 'The 16-year-old was riding jet skis and swimming with friends when she was attacked, police say.',\n",
       " 'A British woman tells the BBC how the influencer persuaded her to work for his webcam business.',\n",
       " \"The novelist was stabbed at a talk in the US last year and says he's found it hard to write since.\",\n",
       " 'An evacuation order is in place within one-mile radius of the scene amid fears of flying shrapnel.',\n",
       " 'The Premier League charges Manchester City with more than 100 breaches of its financial rules following a four-year investigation.',\n",
       " 'A total of 47 pro-democracy activists including Joshua Wong are connected to the landmark case.',\n",
       " 'Iranians involved in anti-government demos are among those set to be released.',\n",
       " 'A total of 47 pro-democracy activists including Joshua Wong are connected to the landmark case.',\n",
       " 'Iranians involved in anti-government demos are among those set to be released.',\n",
       " 'The accused allegedly tricked people into counting trains in Delhi, having promised them work.',\n",
       " 'The building - which contains 600 urns with the ashes of cremated people - has been extensively damaged.',\n",
       " 'In a joint statement the motor industry giants said they had \"rebalanced\" their relationship.',\n",
       " 'The latest global news, sport, weather and documentaries',\n",
       " 'Stories from around the world',\n",
       " 'Email us at haveyoursay@bbc.co.uk',\n",
       " 'Follow Have Your Say on Twitter',\n",
       " 'Why you can trust BBC News']"
      ]
     },
     "execution_count": 362,
     "metadata": {},
     "output_type": "execute_result"
    }
   ],
   "source": [
    "news"
   ]
  },
  {
   "cell_type": "code",
   "execution_count": null,
   "id": "74b2c5be",
   "metadata": {},
   "outputs": [],
   "source": []
  },
  {
   "cell_type": "code",
   "execution_count": null,
   "id": "55afb546",
   "metadata": {},
   "outputs": [],
   "source": []
  },
  {
   "cell_type": "code",
   "execution_count": null,
   "id": "980a02c8",
   "metadata": {},
   "outputs": [],
   "source": []
  },
  {
   "cell_type": "code",
   "execution_count": null,
   "id": "6a6e60b9",
   "metadata": {},
   "outputs": [],
   "source": []
  },
  {
   "cell_type": "code",
   "execution_count": null,
   "id": "f4b1c929",
   "metadata": {},
   "outputs": [],
   "source": []
  }
 ],
 "metadata": {
  "kernelspec": {
   "display_name": "Python 3.9 (tf)",
   "language": "python",
   "name": "tensorflow"
  },
  "language_info": {
   "codemirror_mode": {
    "name": "ipython",
    "version": 3
   },
   "file_extension": ".py",
   "mimetype": "text/x-python",
   "name": "python",
   "nbconvert_exporter": "python",
   "pygments_lexer": "ipython3",
   "version": "3.9.15"
  }
 },
 "nbformat": 4,
 "nbformat_minor": 5
}
