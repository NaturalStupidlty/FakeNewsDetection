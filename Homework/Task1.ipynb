{
 "cells": [
  {
   "cell_type": "markdown",
   "id": "4da8ee51",
   "metadata": {},
   "source": [
    "# 1. Web development is a tremendously huge field; everyone may need their own website for different purposes. \n",
    "# However, developing websites using human resources takes time and costs money. \n",
    "# It would be great to come up with a tool that could do this more automatically, just using the text description. \n",
    "# So, the business problem is to generate code (for now just in html, css, and javascript) using the text description of the website.\n",
    "\n",
    "# 2. For the dataset, we will need labeled data that consists of user requests in the form of a text message that contains at least a couple of words and the appropriate text output that contains code parts for the website and maybe some comments.\n",
    "# We can probably obtain it from open source websites (GitHub, Reddit, tutorial websites) if their license allows it.\n",
    "\n",
    "# 3. Most likely, the conversational model is the most suitable (generating conversational text that is relevant, coherent and knowledgable given a prompt.)\n",
    "\n",
    "# 4. The chosen metric is Perplexity, which measures how well a probabilistic model fits the data – the better the fit, the lower the perplexity.\n",
    "# Also condired the BLEU, ROUGE or METEOR metrics (measure the word overlap between the generated responses and the reference ones)."
   ]
  },
  {
   "cell_type": "markdown",
   "id": "ce2eab32",
   "metadata": {},
   "source": [
    "# What is even more import is the correctness (the code should at least be runable) and readability."
   ]
  },
  {
   "cell_type": "code",
   "execution_count": null,
   "id": "bbfe8cc6",
   "metadata": {},
   "outputs": [],
   "source": []
  }
 ],
 "metadata": {
  "kernelspec": {
   "display_name": "Python 3.9 (tf)",
   "language": "python",
   "name": "tensorflow"
  },
  "language_info": {
   "codemirror_mode": {
    "name": "ipython",
    "version": 3
   },
   "file_extension": ".py",
   "mimetype": "text/x-python",
   "name": "python",
   "nbconvert_exporter": "python",
   "pygments_lexer": "ipython3",
   "version": "3.9.15"
  }
 },
 "nbformat": 4,
 "nbformat_minor": 5
}
