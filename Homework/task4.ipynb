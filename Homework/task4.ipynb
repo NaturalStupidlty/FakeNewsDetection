{
 "cells": [
  {
   "cell_type": "code",
   "execution_count": 1,
   "metadata": {
    "_cell_guid": "b1076dfc-b9ad-4769-8c92-a6c4dae69d19",
    "_uuid": "8f2839f25d086af736a60e9eeb907d3b93b6e0e5",
    "execution": {
     "iopub.execute_input": "2023-02-16T21:33:51.524576Z",
     "iopub.status.busy": "2023-02-16T21:33:51.523885Z",
     "iopub.status.idle": "2023-02-16T21:34:30.678487Z",
     "shell.execute_reply": "2023-02-16T21:34:30.677501Z",
     "shell.execute_reply.started": "2023-02-16T21:33:51.524448Z"
    }
   },
   "outputs": [
    {
     "name": "stdout",
     "output_type": "stream",
     "text": [
      "Collecting sentence_transformers\n",
      "  Downloading sentence-transformers-2.2.2.tar.gz (85 kB)\n",
      "\u001b[2K     \u001b[90m━━━━━━━━━━━━━━━━━━━━━━━━━━━━━━━━━━━━━━━\u001b[0m \u001b[32m86.0/86.0 kB\u001b[0m \u001b[31m625.3 kB/s\u001b[0m eta \u001b[36m0:00:00\u001b[0ma \u001b[36m0:00:01\u001b[0m\n",
      "\u001b[?25h  Preparing metadata (setup.py) ... \u001b[?25ldone\n",
      "\u001b[?25hRequirement already satisfied: transformers<5.0.0,>=4.6.0 in /opt/conda/lib/python3.7/site-packages (from sentence_transformers) (4.20.1)\n",
      "Requirement already satisfied: tqdm in /opt/conda/lib/python3.7/site-packages (from sentence_transformers) (4.64.0)\n",
      "Requirement already satisfied: torch>=1.6.0 in /opt/conda/lib/python3.7/site-packages (from sentence_transformers) (1.11.0)\n",
      "Requirement already satisfied: torchvision in /opt/conda/lib/python3.7/site-packages (from sentence_transformers) (0.12.0)\n",
      "Requirement already satisfied: numpy in /opt/conda/lib/python3.7/site-packages (from sentence_transformers) (1.21.6)\n",
      "Requirement already satisfied: scikit-learn in /opt/conda/lib/python3.7/site-packages (from sentence_transformers) (1.0.2)\n",
      "Requirement already satisfied: scipy in /opt/conda/lib/python3.7/site-packages (from sentence_transformers) (1.7.3)\n",
      "Requirement already satisfied: nltk in /opt/conda/lib/python3.7/site-packages (from sentence_transformers) (3.8.1)\n",
      "Requirement already satisfied: sentencepiece in /opt/conda/lib/python3.7/site-packages (from sentence_transformers) (0.1.97)\n",
      "Requirement already satisfied: huggingface-hub>=0.4.0 in /opt/conda/lib/python3.7/site-packages (from sentence_transformers) (0.10.1)\n",
      "Requirement already satisfied: packaging>=20.9 in /opt/conda/lib/python3.7/site-packages (from huggingface-hub>=0.4.0->sentence_transformers) (23.0)\n",
      "Requirement already satisfied: typing-extensions>=3.7.4.3 in /opt/conda/lib/python3.7/site-packages (from huggingface-hub>=0.4.0->sentence_transformers) (4.1.1)\n",
      "Requirement already satisfied: pyyaml>=5.1 in /opt/conda/lib/python3.7/site-packages (from huggingface-hub>=0.4.0->sentence_transformers) (6.0)\n",
      "Requirement already satisfied: requests in /opt/conda/lib/python3.7/site-packages (from huggingface-hub>=0.4.0->sentence_transformers) (2.28.1)\n",
      "Requirement already satisfied: importlib-metadata in /opt/conda/lib/python3.7/site-packages (from huggingface-hub>=0.4.0->sentence_transformers) (6.0.0)\n",
      "Requirement already satisfied: filelock in /opt/conda/lib/python3.7/site-packages (from huggingface-hub>=0.4.0->sentence_transformers) (3.7.1)\n",
      "Requirement already satisfied: regex!=2019.12.17 in /opt/conda/lib/python3.7/site-packages (from transformers<5.0.0,>=4.6.0->sentence_transformers) (2021.11.10)\n",
      "Requirement already satisfied: tokenizers!=0.11.3,<0.13,>=0.11.1 in /opt/conda/lib/python3.7/site-packages (from transformers<5.0.0,>=4.6.0->sentence_transformers) (0.12.1)\n",
      "Requirement already satisfied: joblib in /opt/conda/lib/python3.7/site-packages (from nltk->sentence_transformers) (1.0.1)\n",
      "Requirement already satisfied: click in /opt/conda/lib/python3.7/site-packages (from nltk->sentence_transformers) (8.1.3)\n",
      "Requirement already satisfied: threadpoolctl>=2.0.0 in /opt/conda/lib/python3.7/site-packages (from scikit-learn->sentence_transformers) (3.1.0)\n",
      "Requirement already satisfied: pillow!=8.3.*,>=5.3.0 in /opt/conda/lib/python3.7/site-packages (from torchvision->sentence_transformers) (9.1.1)\n",
      "Requirement already satisfied: zipp>=0.5 in /opt/conda/lib/python3.7/site-packages (from importlib-metadata->huggingface-hub>=0.4.0->sentence_transformers) (3.8.0)\n",
      "Requirement already satisfied: urllib3<1.27,>=1.21.1 in /opt/conda/lib/python3.7/site-packages (from requests->huggingface-hub>=0.4.0->sentence_transformers) (1.26.14)\n",
      "Requirement already satisfied: charset-normalizer<3,>=2 in /opt/conda/lib/python3.7/site-packages (from requests->huggingface-hub>=0.4.0->sentence_transformers) (2.1.0)\n",
      "Requirement already satisfied: certifi>=2017.4.17 in /opt/conda/lib/python3.7/site-packages (from requests->huggingface-hub>=0.4.0->sentence_transformers) (2022.12.7)\n",
      "Requirement already satisfied: idna<4,>=2.5 in /opt/conda/lib/python3.7/site-packages (from requests->huggingface-hub>=0.4.0->sentence_transformers) (3.3)\n",
      "Building wheels for collected packages: sentence_transformers\n",
      "  Building wheel for sentence_transformers (setup.py) ... \u001b[?25ldone\n",
      "\u001b[?25h  Created wheel for sentence_transformers: filename=sentence_transformers-2.2.2-py3-none-any.whl size=125938 sha256=027beff107cace5d5c4d6b6d82ab2e5fb533479b653580acc27274b7ab8fbe6e\n",
      "  Stored in directory: /root/.cache/pip/wheels/bf/06/fb/d59c1e5bd1dac7f6cf61ec0036cc3a10ab8fecaa6b2c3d3ee9\n",
      "Successfully built sentence_transformers\n",
      "Installing collected packages: sentence_transformers\n",
      "Successfully installed sentence_transformers-2.2.2\n",
      "\u001b[33mWARNING: Running pip as the 'root' user can result in broken permissions and conflicting behaviour with the system package manager. It is recommended to use a virtual environment instead: https://pip.pypa.io/warnings/venv\u001b[0m\u001b[33m\n",
      "\u001b[0mCollecting pymystem3\n",
      "  Downloading pymystem3-0.2.0-py3-none-any.whl (10 kB)\n",
      "Requirement already satisfied: requests in /opt/conda/lib/python3.7/site-packages (from pymystem3) (2.28.1)\n",
      "Requirement already satisfied: charset-normalizer<3,>=2 in /opt/conda/lib/python3.7/site-packages (from requests->pymystem3) (2.1.0)\n",
      "Requirement already satisfied: certifi>=2017.4.17 in /opt/conda/lib/python3.7/site-packages (from requests->pymystem3) (2022.12.7)\n",
      "Requirement already satisfied: urllib3<1.27,>=1.21.1 in /opt/conda/lib/python3.7/site-packages (from requests->pymystem3) (1.26.14)\n",
      "Requirement already satisfied: idna<4,>=2.5 in /opt/conda/lib/python3.7/site-packages (from requests->pymystem3) (3.3)\n",
      "Installing collected packages: pymystem3\n",
      "Successfully installed pymystem3-0.2.0\n",
      "\u001b[33mWARNING: Running pip as the 'root' user can result in broken permissions and conflicting behaviour with the system package manager. It is recommended to use a virtual environment instead: https://pip.pypa.io/warnings/venv\u001b[0m\u001b[33m\n",
      "\u001b[0m"
     ]
    }
   ],
   "source": [
    "!pip install sentence_transformers\n",
    "!pip install pymystem3\n",
    "\n",
    "# Core\n",
    "import time\n",
    "import pandas as pd\n",
    "import numpy as np \n",
    "from functools import reduce\n",
    "from tqdm import tqdm\n",
    "from copy import deepcopy\n",
    "\n",
    "import matplotlib.pyplot as plt\n",
    "\n",
    "# NLP\n",
    "import re\n",
    "import gensim\n",
    "import nltk\n",
    "import spacy\n",
    "import torch\n",
    "import torch.nn as nn\n",
    "from torchtext.data.utils import get_tokenizer\n",
    "from torchtext.vocab import build_vocab_from_iterator\n",
    "from pymystem3 import Mystem\n",
    "from string import punctuation\n",
    "from spacy.tokenizer import Tokenizer\n",
    "from nltk.corpus import stopwords\n",
    "from nltk import tokenize\n",
    "from sentence_transformers import SentenceTransformer\n",
    "\n",
    "# Sklearn\n",
    "from sklearn.pipeline import Pipeline\n",
    "from sklearn.linear_model import LogisticRegression\n",
    "from sklearn.multioutput import MultiOutputClassifier\n",
    "from sklearn.preprocessing import StandardScaler\n",
    "from sklearn.metrics import roc_auc_score, accuracy_score, precision_score, recall_score, confusion_matrix, ConfusionMatrixDisplay\n",
    "from sklearn.feature_extraction.text import CountVectorizer, TfidfVectorizer\n",
    "from sklearn.model_selection import StratifiedKFold, RepeatedStratifiedKFold"
   ]
  },
  {
   "cell_type": "code",
   "execution_count": 2,
   "metadata": {
    "execution": {
     "iopub.execute_input": "2023-02-16T21:34:30.681073Z",
     "iopub.status.busy": "2023-02-16T21:34:30.680552Z",
     "iopub.status.idle": "2023-02-16T21:34:34.045343Z",
     "shell.execute_reply": "2023-02-16T21:34:34.044350Z",
     "shell.execute_reply.started": "2023-02-16T21:34:30.681040Z"
    }
   },
   "outputs": [],
   "source": [
    "train = pd.read_csv(\"../input/jigsaw-toxic-comment-classification-challenge/train.csv\")\n",
    "test = pd.read_csv(\"../input/jigsaw-toxic-comment-classification-challenge/test.csv\")\n",
    "test_labels = pd.read_csv(\"../input/jigsaw-toxic-comment-classification-challenge/test_labels.csv\")"
   ]
  },
  {
   "cell_type": "code",
   "execution_count": 3,
   "metadata": {
    "execution": {
     "iopub.execute_input": "2023-02-16T21:34:34.047238Z",
     "iopub.status.busy": "2023-02-16T21:34:34.046867Z",
     "iopub.status.idle": "2023-02-16T21:34:34.068572Z",
     "shell.execute_reply": "2023-02-16T21:34:34.067742Z",
     "shell.execute_reply.started": "2023-02-16T21:34:34.047198Z"
    }
   },
   "outputs": [
    {
     "data": {
      "text/html": [
       "<div>\n",
       "<style scoped>\n",
       "    .dataframe tbody tr th:only-of-type {\n",
       "        vertical-align: middle;\n",
       "    }\n",
       "\n",
       "    .dataframe tbody tr th {\n",
       "        vertical-align: top;\n",
       "    }\n",
       "\n",
       "    .dataframe thead th {\n",
       "        text-align: right;\n",
       "    }\n",
       "</style>\n",
       "<table border=\"1\" class=\"dataframe\">\n",
       "  <thead>\n",
       "    <tr style=\"text-align: right;\">\n",
       "      <th></th>\n",
       "      <th>id</th>\n",
       "      <th>comment_text</th>\n",
       "      <th>toxic</th>\n",
       "      <th>severe_toxic</th>\n",
       "      <th>obscene</th>\n",
       "      <th>threat</th>\n",
       "      <th>insult</th>\n",
       "      <th>identity_hate</th>\n",
       "    </tr>\n",
       "  </thead>\n",
       "  <tbody>\n",
       "    <tr>\n",
       "      <th>0</th>\n",
       "      <td>0000997932d777bf</td>\n",
       "      <td>Explanation\\nWhy the edits made under my usern...</td>\n",
       "      <td>0</td>\n",
       "      <td>0</td>\n",
       "      <td>0</td>\n",
       "      <td>0</td>\n",
       "      <td>0</td>\n",
       "      <td>0</td>\n",
       "    </tr>\n",
       "    <tr>\n",
       "      <th>1</th>\n",
       "      <td>000103f0d9cfb60f</td>\n",
       "      <td>D'aww! He matches this background colour I'm s...</td>\n",
       "      <td>0</td>\n",
       "      <td>0</td>\n",
       "      <td>0</td>\n",
       "      <td>0</td>\n",
       "      <td>0</td>\n",
       "      <td>0</td>\n",
       "    </tr>\n",
       "    <tr>\n",
       "      <th>2</th>\n",
       "      <td>000113f07ec002fd</td>\n",
       "      <td>Hey man, I'm really not trying to edit war. It...</td>\n",
       "      <td>0</td>\n",
       "      <td>0</td>\n",
       "      <td>0</td>\n",
       "      <td>0</td>\n",
       "      <td>0</td>\n",
       "      <td>0</td>\n",
       "    </tr>\n",
       "    <tr>\n",
       "      <th>3</th>\n",
       "      <td>0001b41b1c6bb37e</td>\n",
       "      <td>\"\\nMore\\nI can't make any real suggestions on ...</td>\n",
       "      <td>0</td>\n",
       "      <td>0</td>\n",
       "      <td>0</td>\n",
       "      <td>0</td>\n",
       "      <td>0</td>\n",
       "      <td>0</td>\n",
       "    </tr>\n",
       "    <tr>\n",
       "      <th>4</th>\n",
       "      <td>0001d958c54c6e35</td>\n",
       "      <td>You, sir, are my hero. Any chance you remember...</td>\n",
       "      <td>0</td>\n",
       "      <td>0</td>\n",
       "      <td>0</td>\n",
       "      <td>0</td>\n",
       "      <td>0</td>\n",
       "      <td>0</td>\n",
       "    </tr>\n",
       "  </tbody>\n",
       "</table>\n",
       "</div>"
      ],
      "text/plain": [
       "                 id                                       comment_text  toxic  \\\n",
       "0  0000997932d777bf  Explanation\\nWhy the edits made under my usern...      0   \n",
       "1  000103f0d9cfb60f  D'aww! He matches this background colour I'm s...      0   \n",
       "2  000113f07ec002fd  Hey man, I'm really not trying to edit war. It...      0   \n",
       "3  0001b41b1c6bb37e  \"\\nMore\\nI can't make any real suggestions on ...      0   \n",
       "4  0001d958c54c6e35  You, sir, are my hero. Any chance you remember...      0   \n",
       "\n",
       "   severe_toxic  obscene  threat  insult  identity_hate  \n",
       "0             0        0       0       0              0  \n",
       "1             0        0       0       0              0  \n",
       "2             0        0       0       0              0  \n",
       "3             0        0       0       0              0  \n",
       "4             0        0       0       0              0  "
      ]
     },
     "execution_count": 3,
     "metadata": {},
     "output_type": "execute_result"
    }
   ],
   "source": [
    "train.head()"
   ]
  },
  {
   "cell_type": "code",
   "execution_count": 4,
   "metadata": {
    "execution": {
     "iopub.execute_input": "2023-02-16T21:34:34.071647Z",
     "iopub.status.busy": "2023-02-16T21:34:34.071281Z",
     "iopub.status.idle": "2023-02-16T21:34:34.076326Z",
     "shell.execute_reply": "2023-02-16T21:34:34.075229Z",
     "shell.execute_reply.started": "2023-02-16T21:34:34.071611Z"
    }
   },
   "outputs": [],
   "source": [
    "target_columns = [\"toxic\", \"severe_toxic\",\n",
    "                  \"obscene\", \"threat\",\n",
    "                  \"insult\", \"identity_hate\"]"
   ]
  },
  {
   "cell_type": "code",
   "execution_count": 5,
   "metadata": {
    "execution": {
     "iopub.execute_input": "2023-02-16T21:34:34.078564Z",
     "iopub.status.busy": "2023-02-16T21:34:34.077787Z",
     "iopub.status.idle": "2023-02-16T21:34:34.190467Z",
     "shell.execute_reply": "2023-02-16T21:34:34.189108Z",
     "shell.execute_reply.started": "2023-02-16T21:34:34.078529Z"
    }
   },
   "outputs": [],
   "source": [
    "test = test.merge(test_labels, on=\"id\")"
   ]
  },
  {
   "cell_type": "code",
   "execution_count": 6,
   "metadata": {
    "execution": {
     "iopub.execute_input": "2023-02-16T21:34:34.192432Z",
     "iopub.status.busy": "2023-02-16T21:34:34.192054Z",
     "iopub.status.idle": "2023-02-16T21:34:34.207302Z",
     "shell.execute_reply": "2023-02-16T21:34:34.204194Z",
     "shell.execute_reply.started": "2023-02-16T21:34:34.192391Z"
    }
   },
   "outputs": [
    {
     "data": {
      "text/html": [
       "<div>\n",
       "<style scoped>\n",
       "    .dataframe tbody tr th:only-of-type {\n",
       "        vertical-align: middle;\n",
       "    }\n",
       "\n",
       "    .dataframe tbody tr th {\n",
       "        vertical-align: top;\n",
       "    }\n",
       "\n",
       "    .dataframe thead th {\n",
       "        text-align: right;\n",
       "    }\n",
       "</style>\n",
       "<table border=\"1\" class=\"dataframe\">\n",
       "  <thead>\n",
       "    <tr style=\"text-align: right;\">\n",
       "      <th></th>\n",
       "      <th>id</th>\n",
       "      <th>comment_text</th>\n",
       "      <th>toxic</th>\n",
       "      <th>severe_toxic</th>\n",
       "      <th>obscene</th>\n",
       "      <th>threat</th>\n",
       "      <th>insult</th>\n",
       "      <th>identity_hate</th>\n",
       "    </tr>\n",
       "  </thead>\n",
       "  <tbody>\n",
       "    <tr>\n",
       "      <th>0</th>\n",
       "      <td>00001cee341fdb12</td>\n",
       "      <td>Yo bitch Ja Rule is more succesful then you'll...</td>\n",
       "      <td>-1</td>\n",
       "      <td>-1</td>\n",
       "      <td>-1</td>\n",
       "      <td>-1</td>\n",
       "      <td>-1</td>\n",
       "      <td>-1</td>\n",
       "    </tr>\n",
       "    <tr>\n",
       "      <th>1</th>\n",
       "      <td>0000247867823ef7</td>\n",
       "      <td>== From RfC == \\n\\n The title is fine as it is...</td>\n",
       "      <td>-1</td>\n",
       "      <td>-1</td>\n",
       "      <td>-1</td>\n",
       "      <td>-1</td>\n",
       "      <td>-1</td>\n",
       "      <td>-1</td>\n",
       "    </tr>\n",
       "    <tr>\n",
       "      <th>2</th>\n",
       "      <td>00013b17ad220c46</td>\n",
       "      <td>\" \\n\\n == Sources == \\n\\n * Zawe Ashton on Lap...</td>\n",
       "      <td>-1</td>\n",
       "      <td>-1</td>\n",
       "      <td>-1</td>\n",
       "      <td>-1</td>\n",
       "      <td>-1</td>\n",
       "      <td>-1</td>\n",
       "    </tr>\n",
       "    <tr>\n",
       "      <th>3</th>\n",
       "      <td>00017563c3f7919a</td>\n",
       "      <td>:If you have a look back at the source, the in...</td>\n",
       "      <td>-1</td>\n",
       "      <td>-1</td>\n",
       "      <td>-1</td>\n",
       "      <td>-1</td>\n",
       "      <td>-1</td>\n",
       "      <td>-1</td>\n",
       "    </tr>\n",
       "    <tr>\n",
       "      <th>4</th>\n",
       "      <td>00017695ad8997eb</td>\n",
       "      <td>I don't anonymously edit articles at all.</td>\n",
       "      <td>-1</td>\n",
       "      <td>-1</td>\n",
       "      <td>-1</td>\n",
       "      <td>-1</td>\n",
       "      <td>-1</td>\n",
       "      <td>-1</td>\n",
       "    </tr>\n",
       "  </tbody>\n",
       "</table>\n",
       "</div>"
      ],
      "text/plain": [
       "                 id                                       comment_text  toxic  \\\n",
       "0  00001cee341fdb12  Yo bitch Ja Rule is more succesful then you'll...     -1   \n",
       "1  0000247867823ef7  == From RfC == \\n\\n The title is fine as it is...     -1   \n",
       "2  00013b17ad220c46  \" \\n\\n == Sources == \\n\\n * Zawe Ashton on Lap...     -1   \n",
       "3  00017563c3f7919a  :If you have a look back at the source, the in...     -1   \n",
       "4  00017695ad8997eb          I don't anonymously edit articles at all.     -1   \n",
       "\n",
       "   severe_toxic  obscene  threat  insult  identity_hate  \n",
       "0            -1       -1      -1      -1             -1  \n",
       "1            -1       -1      -1      -1             -1  \n",
       "2            -1       -1      -1      -1             -1  \n",
       "3            -1       -1      -1      -1             -1  \n",
       "4            -1       -1      -1      -1             -1  "
      ]
     },
     "execution_count": 6,
     "metadata": {},
     "output_type": "execute_result"
    }
   ],
   "source": [
    "test.head()"
   ]
  },
  {
   "cell_type": "code",
   "execution_count": 7,
   "metadata": {
    "execution": {
     "iopub.execute_input": "2023-02-16T21:34:34.209715Z",
     "iopub.status.busy": "2023-02-16T21:34:34.208938Z",
     "iopub.status.idle": "2023-02-16T21:34:34.249850Z",
     "shell.execute_reply": "2023-02-16T21:34:34.248820Z",
     "shell.execute_reply.started": "2023-02-16T21:34:34.209674Z"
    }
   },
   "outputs": [],
   "source": [
    "closed_test = test[(test[target_columns] == -1).any(axis=1)].reset_index(drop=True)\n",
    "test = test[~(test[target_columns] == -1).any(axis=1)].reset_index(drop=True)"
   ]
  },
  {
   "cell_type": "code",
   "execution_count": 8,
   "metadata": {
    "execution": {
     "iopub.execute_input": "2023-02-16T21:34:34.251714Z",
     "iopub.status.busy": "2023-02-16T21:34:34.251358Z",
     "iopub.status.idle": "2023-02-16T21:34:34.310389Z",
     "shell.execute_reply": "2023-02-16T21:34:34.309362Z",
     "shell.execute_reply.started": "2023-02-16T21:34:34.251678Z"
    }
   },
   "outputs": [
    {
     "name": "stdout",
     "output_type": "stream",
     "text": [
      "id               0\n",
      "comment_text     0\n",
      "toxic            0\n",
      "severe_toxic     0\n",
      "obscene          0\n",
      "threat           0\n",
      "insult           0\n",
      "identity_hate    0\n",
      "dtype: int64 \n",
      "\n",
      "id               0\n",
      "comment_text     0\n",
      "toxic            0\n",
      "severe_toxic     0\n",
      "obscene          0\n",
      "threat           0\n",
      "insult           0\n",
      "identity_hate    0\n",
      "dtype: int64 \n",
      "\n"
     ]
    }
   ],
   "source": [
    "for data in [train, test]:\n",
    "    print(train.isnull().sum(), '\\n')"
   ]
  },
  {
   "cell_type": "code",
   "execution_count": 9,
   "metadata": {
    "execution": {
     "iopub.execute_input": "2023-02-16T21:34:34.312399Z",
     "iopub.status.busy": "2023-02-16T21:34:34.311762Z",
     "iopub.status.idle": "2023-02-16T21:34:34.333204Z",
     "shell.execute_reply": "2023-02-16T21:34:34.332095Z",
     "shell.execute_reply.started": "2023-02-16T21:34:34.312361Z"
    }
   },
   "outputs": [
    {
     "name": "stdout",
     "output_type": "stream",
     "text": [
      "Train\n",
      "0    0.904156\n",
      "1    0.095844\n",
      "Name: toxic, dtype: float64\n",
      "0    0.990004\n",
      "1    0.009996\n",
      "Name: severe_toxic, dtype: float64\n",
      "0    0.947052\n",
      "1    0.052948\n",
      "Name: obscene, dtype: float64\n",
      "0    0.997004\n",
      "1    0.002996\n",
      "Name: threat, dtype: float64\n",
      "0    0.950636\n",
      "1    0.049364\n",
      "Name: insult, dtype: float64\n",
      "0    0.991195\n",
      "1    0.008805\n",
      "Name: identity_hate, dtype: float64\n"
     ]
    }
   ],
   "source": [
    "print(\"Train\")\n",
    "for col in target_columns:\n",
    "    print(train[col].value_counts(normalize=True))"
   ]
  },
  {
   "cell_type": "code",
   "execution_count": 10,
   "metadata": {
    "execution": {
     "iopub.execute_input": "2023-02-16T21:34:34.337673Z",
     "iopub.status.busy": "2023-02-16T21:34:34.337203Z",
     "iopub.status.idle": "2023-02-16T21:34:34.356503Z",
     "shell.execute_reply": "2023-02-16T21:34:34.355649Z",
     "shell.execute_reply.started": "2023-02-16T21:34:34.337638Z"
    }
   },
   "outputs": [
    {
     "name": "stdout",
     "output_type": "stream",
     "text": [
      "Test\n",
      "0    0.904811\n",
      "1    0.095189\n",
      "Name: toxic, dtype: float64\n",
      "0    0.994264\n",
      "1    0.005736\n",
      "Name: severe_toxic, dtype: float64\n",
      "0    0.942308\n",
      "1    0.057692\n",
      "Name: obscene, dtype: float64\n",
      "0    0.996702\n",
      "1    0.003298\n",
      "Name: threat, dtype: float64\n",
      "0    0.946435\n",
      "1    0.053565\n",
      "Name: insult, dtype: float64\n",
      "0    0.988871\n",
      "1    0.011129\n",
      "Name: identity_hate, dtype: float64\n"
     ]
    }
   ],
   "source": [
    "print(\"Test\")\n",
    "for col in target_columns:\n",
    "    print(test[col].value_counts(normalize=True))"
   ]
  },
  {
   "cell_type": "code",
   "execution_count": 11,
   "metadata": {
    "execution": {
     "iopub.execute_input": "2023-02-16T21:34:34.358134Z",
     "iopub.status.busy": "2023-02-16T21:34:34.357676Z",
     "iopub.status.idle": "2023-02-16T21:34:36.924003Z",
     "shell.execute_reply": "2023-02-16T21:34:36.922721Z",
     "shell.execute_reply.started": "2023-02-16T21:34:34.358096Z"
    }
   },
   "outputs": [
    {
     "name": "stderr",
     "output_type": "stream",
     "text": [
      "Installing mystem to /root/.local/bin/mystem from http://download.cdn.yandex.net/mystem/mystem-3.1-linux-64bit.tar.gz\n"
     ]
    }
   ],
   "source": [
    "stop_words = stopwords.words('english')\n",
    "stop_words.extend(['from', 'subject', 're', 'edu', 'use'])\n",
    "mystem = Mystem()\n",
    "\n",
    "def preprocess(text, stemming=True):\n",
    "    if stemming:\n",
    "        tokens = mystem.lemmatize(text.lower())\n",
    "        tokens = [token for token in tokens if token not in stop_words\\\n",
    "                  and token != \" \"\\\n",
    "                  and token.strip() not in punctuation]\n",
    "    else:\n",
    "        tokens = gensim.utils.simple_preprocess(text)\n",
    "        tokens = [token for token in tokens if (token not in\\\n",
    "                    gensim.parsing.preprocessing.STOPWORDS and \n",
    "                    token not in stop_words)]\n",
    "        \n",
    "    text = \" \".join(tokens)\n",
    "    return text"
   ]
  },
  {
   "cell_type": "code",
   "execution_count": 12,
   "metadata": {
    "execution": {
     "iopub.execute_input": "2023-02-16T21:34:36.926478Z",
     "iopub.status.busy": "2023-02-16T21:34:36.925760Z",
     "iopub.status.idle": "2023-02-16T21:34:36.939085Z",
     "shell.execute_reply": "2023-02-16T21:34:36.937331Z",
     "shell.execute_reply.started": "2023-02-16T21:34:36.926436Z"
    }
   },
   "outputs": [],
   "source": [
    "def collapse_dots(input):\n",
    "    # Collapse sequential dots\n",
    "    input = re.sub(\"\\.+\", \".\", input)\n",
    "    # Collapse dots separated by whitespaces\n",
    "    all_collapsed = False\n",
    "    while not all_collapsed:\n",
    "        output = re.sub(r\"\\.(( )*)\\.\", \".\", input)\n",
    "        all_collapsed = input == output\n",
    "        input = output\n",
    "    return output\n",
    "\n",
    "def process_text(input):\n",
    "    if isinstance(input, str):\n",
    "        input = \" \".join(tokenize.sent_tokenize(input))\n",
    "        input = re.sub(r\"http\\S+\", \"\", input)\n",
    "        input = re.sub(r\"\\n+\", \". \", input)\n",
    "        for symb in [\"!\", \",\", \":\", \";\", \"?\"]:\n",
    "            input = re.sub(rf\"\\{symb}\\.\", symb, input)\n",
    "        input = re.sub(\"[^а-яА-Яa-zA-Z0-9!\\\"#$%&'()*+,-./:;<=>?@[\\\\]^_`{|}~ё]+\", \" \", input)\n",
    "        input = re.sub(r\"#\\S+\", \"\", input)\n",
    "        input = collapse_dots(input)\n",
    "        input = input.strip()\n",
    "        # input = input.lower()\n",
    "    return input"
   ]
  },
  {
   "cell_type": "code",
   "execution_count": 13,
   "metadata": {
    "execution": {
     "iopub.execute_input": "2023-02-16T21:34:36.941132Z",
     "iopub.status.busy": "2023-02-16T21:34:36.940700Z",
     "iopub.status.idle": "2023-02-16T21:38:56.876617Z",
     "shell.execute_reply": "2023-02-16T21:38:56.875541Z",
     "shell.execute_reply.started": "2023-02-16T21:34:36.941092Z"
    }
   },
   "outputs": [
    {
     "data": {
      "application/vnd.jupyter.widget-view+json": {
       "model_id": "eaea7362a2aa4df6b462254ca6378c19",
       "version_major": 2,
       "version_minor": 0
      },
      "text/plain": [
       "Downloading:   0%|          | 0.00/1.18k [00:00<?, ?B/s]"
      ]
     },
     "metadata": {},
     "output_type": "display_data"
    },
    {
     "data": {
      "application/vnd.jupyter.widget-view+json": {
       "model_id": "3562192e905d4585a23f9a49fe0a6500",
       "version_major": 2,
       "version_minor": 0
      },
      "text/plain": [
       "Downloading:   0%|          | 0.00/190 [00:00<?, ?B/s]"
      ]
     },
     "metadata": {},
     "output_type": "display_data"
    },
    {
     "data": {
      "application/vnd.jupyter.widget-view+json": {
       "model_id": "903b7aa30f3040348cbbd3a15cb68e33",
       "version_major": 2,
       "version_minor": 0
      },
      "text/plain": [
       "Downloading:   0%|          | 0.00/10.6k [00:00<?, ?B/s]"
      ]
     },
     "metadata": {},
     "output_type": "display_data"
    },
    {
     "data": {
      "application/vnd.jupyter.widget-view+json": {
       "model_id": "b334b5bf342a494294074786183943cc",
       "version_major": 2,
       "version_minor": 0
      },
      "text/plain": [
       "Downloading:   0%|          | 0.00/612 [00:00<?, ?B/s]"
      ]
     },
     "metadata": {},
     "output_type": "display_data"
    },
    {
     "data": {
      "application/vnd.jupyter.widget-view+json": {
       "model_id": "79c8a24e077b4bf0ba671e2d49dc008e",
       "version_major": 2,
       "version_minor": 0
      },
      "text/plain": [
       "Downloading:   0%|          | 0.00/116 [00:00<?, ?B/s]"
      ]
     },
     "metadata": {},
     "output_type": "display_data"
    },
    {
     "data": {
      "application/vnd.jupyter.widget-view+json": {
       "model_id": "6a98e92645b4419fb389024250e2840d",
       "version_major": 2,
       "version_minor": 0
      },
      "text/plain": [
       "Downloading:   0%|          | 0.00/39.3k [00:00<?, ?B/s]"
      ]
     },
     "metadata": {},
     "output_type": "display_data"
    },
    {
     "data": {
      "application/vnd.jupyter.widget-view+json": {
       "model_id": "cc5727be612247a4b86a4a30270fa1a1",
       "version_major": 2,
       "version_minor": 0
      },
      "text/plain": [
       "Downloading:   0%|          | 0.00/90.9M [00:00<?, ?B/s]"
      ]
     },
     "metadata": {},
     "output_type": "display_data"
    },
    {
     "data": {
      "application/vnd.jupyter.widget-view+json": {
       "model_id": "6299b97621534d3c84775d3237244e92",
       "version_major": 2,
       "version_minor": 0
      },
      "text/plain": [
       "Downloading:   0%|          | 0.00/53.0 [00:00<?, ?B/s]"
      ]
     },
     "metadata": {},
     "output_type": "display_data"
    },
    {
     "data": {
      "application/vnd.jupyter.widget-view+json": {
       "model_id": "1c06aaa5a5c648afa786fd5402e93680",
       "version_major": 2,
       "version_minor": 0
      },
      "text/plain": [
       "Downloading:   0%|          | 0.00/112 [00:00<?, ?B/s]"
      ]
     },
     "metadata": {},
     "output_type": "display_data"
    },
    {
     "data": {
      "application/vnd.jupyter.widget-view+json": {
       "model_id": "aa239580062242bfa0fe44276f551073",
       "version_major": 2,
       "version_minor": 0
      },
      "text/plain": [
       "Downloading:   0%|          | 0.00/466k [00:00<?, ?B/s]"
      ]
     },
     "metadata": {},
     "output_type": "display_data"
    },
    {
     "data": {
      "application/vnd.jupyter.widget-view+json": {
       "model_id": "1028ba1502bb4b2ea39bad442c343949",
       "version_major": 2,
       "version_minor": 0
      },
      "text/plain": [
       "Downloading:   0%|          | 0.00/350 [00:00<?, ?B/s]"
      ]
     },
     "metadata": {},
     "output_type": "display_data"
    },
    {
     "data": {
      "application/vnd.jupyter.widget-view+json": {
       "model_id": "02e76feb282c4ae89fe59ad295267768",
       "version_major": 2,
       "version_minor": 0
      },
      "text/plain": [
       "Downloading:   0%|          | 0.00/13.2k [00:00<?, ?B/s]"
      ]
     },
     "metadata": {},
     "output_type": "display_data"
    },
    {
     "data": {
      "application/vnd.jupyter.widget-view+json": {
       "model_id": "ff1e05f5c4024dcea0d5e5e6b2df1455",
       "version_major": 2,
       "version_minor": 0
      },
      "text/plain": [
       "Downloading:   0%|          | 0.00/232k [00:00<?, ?B/s]"
      ]
     },
     "metadata": {},
     "output_type": "display_data"
    },
    {
     "data": {
      "application/vnd.jupyter.widget-view+json": {
       "model_id": "925a0969303d44fd9d588bb1cd0a3674",
       "version_major": 2,
       "version_minor": 0
      },
      "text/plain": [
       "Downloading:   0%|          | 0.00/349 [00:00<?, ?B/s]"
      ]
     },
     "metadata": {},
     "output_type": "display_data"
    },
    {
     "data": {
      "application/vnd.jupyter.widget-view+json": {
       "model_id": "3edbe7b475d84a6b9ef2e73b4159b62e",
       "version_major": 2,
       "version_minor": 0
      },
      "text/plain": [
       "Batches:   0%|          | 0/4987 [00:00<?, ?it/s]"
      ]
     },
     "metadata": {},
     "output_type": "display_data"
    },
    {
     "data": {
      "application/vnd.jupyter.widget-view+json": {
       "model_id": "a5d1c8e6ba5c40e2ba9db16b2f81356b",
       "version_major": 2,
       "version_minor": 0
      },
      "text/plain": [
       "Batches:   0%|          | 0/2000 [00:00<?, ?it/s]"
      ]
     },
     "metadata": {},
     "output_type": "display_data"
    }
   ],
   "source": [
    "sent_tr = SentenceTransformer('all-MiniLM-L6-v2', device=\"cuda\")\n",
    "train['light_clean_comment_text'] = train['comment_text'].apply(process_text)\n",
    "test['light_clean_comment_text'] = test['comment_text'].apply(process_text)\n",
    "train_embs = sent_tr.encode(train[\"light_clean_comment_text\"].to_list())\n",
    "test_embs = sent_tr.encode(test[\"light_clean_comment_text\"].to_list())"
   ]
  },
  {
   "cell_type": "code",
   "execution_count": 14,
   "metadata": {
    "execution": {
     "iopub.execute_input": "2023-02-16T21:38:56.879012Z",
     "iopub.status.busy": "2023-02-16T21:38:56.878428Z",
     "iopub.status.idle": "2023-02-16T21:38:56.890119Z",
     "shell.execute_reply": "2023-02-16T21:38:56.889296Z",
     "shell.execute_reply.started": "2023-02-16T21:38:56.878965Z"
    }
   },
   "outputs": [],
   "source": [
    "import os\n",
    "os.environ[\"TOKENIZERS_PARALLELISM\"] = \"True\""
   ]
  },
  {
   "cell_type": "code",
   "execution_count": null,
   "metadata": {
    "execution": {
     "iopub.execute_input": "2023-02-14T21:21:49.089115Z",
     "iopub.status.busy": "2023-02-14T21:21:49.086218Z",
     "iopub.status.idle": "2023-02-14T21:26:18.118916Z",
     "shell.execute_reply": "2023-02-14T21:26:18.117701Z",
     "shell.execute_reply.started": "2023-02-14T21:21:49.089068Z"
    }
   },
   "outputs": [],
   "source": [
    "train['comment_text'] = train['comment_text'].apply(preprocess)\n",
    "test['comment_text'] = test['comment_text'].apply(preprocess)"
   ]
  },
  {
   "cell_type": "code",
   "execution_count": 101,
   "metadata": {
    "execution": {
     "iopub.execute_input": "2023-02-16T20:42:56.220751Z",
     "iopub.status.busy": "2023-02-16T20:42:56.219816Z",
     "iopub.status.idle": "2023-02-16T20:42:56.229005Z",
     "shell.execute_reply": "2023-02-16T20:42:56.228040Z",
     "shell.execute_reply.started": "2023-02-16T20:42:56.220716Z"
    }
   },
   "outputs": [],
   "source": [
    "def compute_metric(y_true, y_pred, verbose=True):\n",
    "    assert y_true.shape == y_pred.shape\n",
    "    roc_aucs = [roc_auc_score(y_true[:,i], y_pred[:,i]) for i in range(y_pred.shape[1])]\n",
    "    if verbose:\n",
    "        for metric, col in zip(roc_aucs, target_columns):\n",
    "            print(f\"{col} Roc Auc: {metric}\")\n",
    "        print(f\"Result Roc Auc: {np.mean(roc_aucs)}\")\n",
    "    return roc_aucs, np.mean(roc_aucs)"
   ]
  },
  {
   "cell_type": "code",
   "execution_count": null,
   "metadata": {
    "execution": {
     "iopub.execute_input": "2023-02-14T16:27:43.425662Z",
     "iopub.status.busy": "2023-02-14T16:27:43.425260Z",
     "iopub.status.idle": "2023-02-14T16:28:49.242818Z",
     "shell.execute_reply": "2023-02-14T16:28:49.241697Z",
     "shell.execute_reply.started": "2023-02-14T16:27:43.425631Z"
    }
   },
   "outputs": [],
   "source": [
    "model = Pipeline([\n",
    "    (\"scaler\", StandardScaler()),\n",
    "    (\"lof_reg\", MultiOutputClassifier(LogisticRegression()))\n",
    "])\n",
    "\n",
    "all_train_pred = model.fit(\n",
    "    train_embs, \n",
    "    train[target_columns]\n",
    ").predict_proba(train_embs)\n",
    "all_train_pred = np.stack([el[:,1] for el in all_train_pred],axis=1)\n",
    "compute_metric(train[target_columns].values, all_train_pred)"
   ]
  },
  {
   "cell_type": "code",
   "execution_count": 102,
   "metadata": {
    "execution": {
     "iopub.execute_input": "2023-02-16T20:42:56.231999Z",
     "iopub.status.busy": "2023-02-16T20:42:56.231658Z",
     "iopub.status.idle": "2023-02-16T20:42:56.241146Z",
     "shell.execute_reply": "2023-02-16T20:42:56.240131Z",
     "shell.execute_reply.started": "2023-02-16T20:42:56.231966Z"
    }
   },
   "outputs": [],
   "source": [
    "FOLDS = 5"
   ]
  },
  {
   "cell_type": "code",
   "execution_count": 103,
   "metadata": {
    "execution": {
     "iopub.execute_input": "2023-02-16T20:42:56.243049Z",
     "iopub.status.busy": "2023-02-16T20:42:56.242545Z",
     "iopub.status.idle": "2023-02-16T20:42:57.898321Z",
     "shell.execute_reply": "2023-02-16T20:42:57.897222Z",
     "shell.execute_reply.started": "2023-02-16T20:42:56.242992Z"
    }
   },
   "outputs": [
    {
     "data": {
      "text/plain": [
       "000000    143346\n",
       "100000      5666\n",
       "101010      3800\n",
       "101000      1758\n",
       "100010      1215\n",
       "111010       989\n",
       "101011       618\n",
       "001000       317\n",
       "000010       301\n",
       "111011       265\n",
       "001010       181\n",
       "111000       158\n",
       "100001       136\n",
       "100011       134\n",
       "101110       131\n",
       "100100       113\n",
       "111110        64\n",
       "101111        56\n",
       "000001        54\n",
       "110000        41\n",
       "101001        35\n",
       "111111        31\n",
       "000011        28\n",
       "-1            22\n",
       "000100        22\n",
       "001011        18\n",
       "100110        16\n",
       "110010        14\n",
       "101100        11\n",
       "110100        11\n",
       "110011         7\n",
       "100101         7\n",
       "111001         6\n",
       "Name: stratified_target, dtype: int64"
      ]
     },
     "execution_count": 103,
     "metadata": {},
     "output_type": "execute_result"
    }
   ],
   "source": [
    "train[\"stratified_target\"] = train[target_columns].apply(\n",
    "    lambda x: reduce(lambda x, y: str(x) + str(y), x), axis=1)\n",
    "\n",
    "small_groups = train[\"stratified_target\"].value_counts()[\n",
    "    train[\"stratified_target\"].value_counts() < FOLDS].index\n",
    "\n",
    "train.loc[train[\"stratified_target\"].isin(small_groups), \"stratified_target\"] = \"-1\"\n",
    "train[\"stratified_target\"].value_counts()"
   ]
  },
  {
   "cell_type": "code",
   "execution_count": 104,
   "metadata": {
    "execution": {
     "iopub.execute_input": "2023-02-16T20:42:57.900080Z",
     "iopub.status.busy": "2023-02-16T20:42:57.899654Z",
     "iopub.status.idle": "2023-02-16T20:42:57.907040Z",
     "shell.execute_reply": "2023-02-16T20:42:57.906023Z",
     "shell.execute_reply.started": "2023-02-16T20:42:57.900002Z"
    }
   },
   "outputs": [],
   "source": [
    "stratifier = StratifiedKFold(n_splits=FOLDS, random_state=69, shuffle=True)\n",
    "classifier = MultiOutputClassifier(LogisticRegression(max_iter=1000))\n",
    "#vectorizer = CountVectorizer()\n",
    "#vectorizer = CountVectorizer(ngram_range=(1,2))\n",
    "vectorizer = TfidfVectorizer()\n",
    "#vectorizer = TfidfVectorizer(ngram_range=(1,2))\n",
    "#!python3 -m spacy download ru_core_news_md\n",
    "#spacy_nlp = spacy.load('ru_core_news_md')\n",
    "#vectorizer = CountVectorizer(token_pattern = None, tokenizer=Tokenizer(spacy_nlp.vocab))\n",
    "\n",
    "pipeline = Pipeline([(\"vectorizer\", vectorizer),\n",
    "         (\"classifier\", classifier)])"
   ]
  },
  {
   "cell_type": "code",
   "execution_count": 105,
   "metadata": {
    "execution": {
     "iopub.execute_input": "2023-02-16T20:42:57.909369Z",
     "iopub.status.busy": "2023-02-16T20:42:57.908601Z",
     "iopub.status.idle": "2023-02-16T20:42:57.922755Z",
     "shell.execute_reply": "2023-02-16T20:42:57.921662Z",
     "shell.execute_reply.started": "2023-02-16T20:42:57.909330Z"
    }
   },
   "outputs": [],
   "source": [
    "def fit_ensemble(X, y, stratifier, pipeline, verbose=True):\n",
    "    all_train_preds = []\n",
    "    all_test_preds = []\n",
    "    all_train_targets = []\n",
    "    all_test_targets = []\n",
    "    all_models = []\n",
    "    \n",
    "    folds_ids = [el for el in stratifier.split(train, train[\"stratified_target\"])]\n",
    "    \n",
    "    start = time.time()\n",
    "    for fold_id, (train_ids, test_ids) in enumerate(folds_ids):\n",
    "        model = pipeline\n",
    "        model.fit(X.iloc[train_ids], y.iloc[train_ids])\n",
    "\n",
    "        fold_train_preds = model.predict_proba(X.iloc[train_ids])\n",
    "        fold_train_preds = np.stack([el[:,1] for el in fold_train_preds],axis=1)\n",
    "        fold_test_preds = model.predict_proba(X.iloc[test_ids])\n",
    "        fold_test_preds = np.stack([el[:,1] for el in fold_test_preds],axis=1)\n",
    "        fold_train_targets = y.iloc[train_ids].values\n",
    "        fold_test_targets = y.iloc[test_ids].values\n",
    "\n",
    "        if verbose:\n",
    "            print(f\"Fold {fold_id + 1}\")\n",
    "            print(\"Train ROC AUC: \")\n",
    "            compute_metric(fold_train_targets, fold_train_preds)\n",
    "            print(\"Test: ROC AUC\")\n",
    "            compute_metric(fold_test_targets, fold_test_preds)\n",
    "        \n",
    "        all_train_preds.append(fold_train_preds)\n",
    "        all_test_preds.append(fold_test_preds)\n",
    "        all_train_targets.append(fold_train_targets)\n",
    "        all_test_targets.append(fold_test_targets)\n",
    "        all_models.append(model)\n",
    "\n",
    "    stop = time.time()\n",
    "    print('Training time (mins):', np.round((stop - start) / 60, 2))\n",
    "    \n",
    "    return [(all_train_preds, all_test_preds),\n",
    "            (all_train_targets, all_test_targets),\n",
    "            all_models]"
   ]
  },
  {
   "cell_type": "code",
   "execution_count": null,
   "metadata": {
    "execution": {
     "iopub.execute_input": "2023-02-14T17:02:45.961009Z",
     "iopub.status.busy": "2023-02-14T17:02:45.960616Z",
     "iopub.status.idle": "2023-02-14T17:08:08.906800Z",
     "shell.execute_reply": "2023-02-14T17:08:08.905613Z",
     "shell.execute_reply.started": "2023-02-14T17:02:45.960970Z"
    }
   },
   "outputs": [],
   "source": [
    "predictions, targets, models = fit_ensemble(train[\"comment_text\"],\n",
    "                                           train[target_columns],\n",
    "                                           stratifier,\n",
    "                                           pipeline)"
   ]
  },
  {
   "cell_type": "code",
   "execution_count": 20,
   "metadata": {
    "execution": {
     "iopub.execute_input": "2023-02-16T19:34:46.504097Z",
     "iopub.status.busy": "2023-02-16T19:34:46.503710Z",
     "iopub.status.idle": "2023-02-16T19:34:46.946375Z",
     "shell.execute_reply": "2023-02-16T19:34:46.944659Z",
     "shell.execute_reply.started": "2023-02-16T19:34:46.504061Z"
    }
   },
   "outputs": [
    {
     "ename": "NameError",
     "evalue": "name 'predictions' is not defined",
     "output_type": "error",
     "traceback": [
      "\u001b[0;31m---------------------------------------------------------------------------\u001b[0m",
      "\u001b[0;31mNameError\u001b[0m                                 Traceback (most recent call last)",
      "\u001b[0;32m/tmp/ipykernel_23/345253082.py\u001b[0m in \u001b[0;36m<module>\u001b[0;34m\u001b[0m\n\u001b[0;32m----> 1\u001b[0;31m \u001b[0mall_train_preds\u001b[0m \u001b[0;34m=\u001b[0m \u001b[0mnp\u001b[0m\u001b[0;34m.\u001b[0m\u001b[0mconcatenate\u001b[0m\u001b[0;34m(\u001b[0m\u001b[0mpredictions\u001b[0m\u001b[0;34m[\u001b[0m\u001b[0;36m0\u001b[0m\u001b[0;34m]\u001b[0m\u001b[0;34m)\u001b[0m\u001b[0;34m\u001b[0m\u001b[0;34m\u001b[0m\u001b[0m\n\u001b[0m\u001b[1;32m      2\u001b[0m \u001b[0mall_test_preds\u001b[0m \u001b[0;34m=\u001b[0m \u001b[0mnp\u001b[0m\u001b[0;34m.\u001b[0m\u001b[0mconcatenate\u001b[0m\u001b[0;34m(\u001b[0m\u001b[0mpredictions\u001b[0m\u001b[0;34m[\u001b[0m\u001b[0;36m1\u001b[0m\u001b[0;34m]\u001b[0m\u001b[0;34m)\u001b[0m\u001b[0;34m\u001b[0m\u001b[0;34m\u001b[0m\u001b[0m\n\u001b[1;32m      3\u001b[0m \u001b[0mall_train_targets\u001b[0m \u001b[0;34m=\u001b[0m \u001b[0mnp\u001b[0m\u001b[0;34m.\u001b[0m\u001b[0mconcatenate\u001b[0m\u001b[0;34m(\u001b[0m\u001b[0mtargets\u001b[0m\u001b[0;34m[\u001b[0m\u001b[0;36m0\u001b[0m\u001b[0;34m]\u001b[0m\u001b[0;34m)\u001b[0m\u001b[0;34m\u001b[0m\u001b[0;34m\u001b[0m\u001b[0m\n\u001b[1;32m      4\u001b[0m \u001b[0mall_test_targets\u001b[0m \u001b[0;34m=\u001b[0m \u001b[0mnp\u001b[0m\u001b[0;34m.\u001b[0m\u001b[0mconcatenate\u001b[0m\u001b[0;34m(\u001b[0m\u001b[0mtargets\u001b[0m\u001b[0;34m[\u001b[0m\u001b[0;36m1\u001b[0m\u001b[0;34m]\u001b[0m\u001b[0;34m)\u001b[0m\u001b[0;34m\u001b[0m\u001b[0;34m\u001b[0m\u001b[0m\n\u001b[1;32m      5\u001b[0m \u001b[0;34m\u001b[0m\u001b[0m\n",
      "\u001b[0;31mNameError\u001b[0m: name 'predictions' is not defined"
     ]
    }
   ],
   "source": [
    "all_train_preds = np.concatenate(predictions[0])\n",
    "all_test_preds = np.concatenate(predictions[1])\n",
    "all_train_targets = np.concatenate(targets[0])\n",
    "all_test_targets = np.concatenate(targets[1])\n",
    "\n",
    "print(\"OOF Train ROC AUC: \")\n",
    "compute_metric(all_train_targets, all_train_preds);\n",
    "print(\"OOF Test ROC AUC: \")\n",
    "compute_metric(all_test_targets, all_test_preds);"
   ]
  },
  {
   "cell_type": "code",
   "execution_count": null,
   "metadata": {
    "execution": {
     "iopub.status.busy": "2023-02-16T19:34:46.947645Z",
     "iopub.status.idle": "2023-02-16T19:34:46.948233Z",
     "shell.execute_reply": "2023-02-16T19:34:46.947989Z",
     "shell.execute_reply.started": "2023-02-16T19:34:46.947965Z"
    }
   },
   "outputs": [],
   "source": [
    "test_pred = []\n",
    "for m in models:\n",
    "    fold_test_pred = m.predict_proba(test[\"comment_text\"])\n",
    "    fold_test_pred = np.stack([el[:,1] for el in fold_test_pred],axis=1)\n",
    "    test_pred.append(fold_test_pred)"
   ]
  },
  {
   "cell_type": "code",
   "execution_count": null,
   "metadata": {
    "execution": {
     "iopub.execute_input": "2023-02-14T17:08:20.602613Z",
     "iopub.status.busy": "2023-02-14T17:08:20.601951Z",
     "iopub.status.idle": "2023-02-14T17:08:20.737113Z",
     "shell.execute_reply": "2023-02-14T17:08:20.735878Z",
     "shell.execute_reply.started": "2023-02-14T17:08:20.602567Z"
    }
   },
   "outputs": [],
   "source": [
    "compute_metric(\n",
    "    test[target_columns].values, \n",
    "    np.stack(test_pred,axis=0).mean(0)\n",
    ");"
   ]
  },
  {
   "cell_type": "markdown",
   "metadata": {},
   "source": [
    "# Logistic regression ensemble (5)"
   ]
  },
  {
   "cell_type": "markdown",
   "metadata": {},
   "source": [
    "## Rough preprocess"
   ]
  },
  {
   "cell_type": "markdown",
   "metadata": {},
   "source": [
    "- CountVectorizer()\n",
    "- Result **Roc Auc**: 0.9425116547815806"
   ]
  },
  {
   "cell_type": "markdown",
   "metadata": {
    "execution": {
     "iopub.execute_input": "2023-02-14T14:17:23.200733Z",
     "iopub.status.busy": "2023-02-14T14:17:23.200374Z",
     "iopub.status.idle": "2023-02-14T14:17:23.209740Z",
     "shell.execute_reply": "2023-02-14T14:17:23.207370Z",
     "shell.execute_reply.started": "2023-02-14T14:17:23.200704Z"
    }
   },
   "source": [
    "- CountVectorizer()\n",
    "- Result **Roc Auc**: 0.9560571239783178"
   ]
  },
  {
   "cell_type": "markdown",
   "metadata": {
    "execution": {
     "iopub.execute_input": "2023-02-14T14:16:46.734215Z",
     "iopub.status.busy": "2023-02-14T14:16:46.733834Z",
     "iopub.status.idle": "2023-02-14T14:16:46.740876Z",
     "shell.execute_reply": "2023-02-14T14:16:46.739531Z",
     "shell.execute_reply.started": "2023-02-14T14:16:46.734182Z"
    }
   },
   "source": [
    "- TfidfVectorizer(n_grams=(1,2))\n",
    "- Result **Roc Auc**: 0.9723529161153364"
   ]
  },
  {
   "cell_type": "markdown",
   "metadata": {},
   "source": [
    "- TfidfVectorizer()\n",
    "- Result **Roc Auc**: 0.9745174691756769"
   ]
  },
  {
   "cell_type": "markdown",
   "metadata": {
    "execution": {
     "iopub.execute_input": "2023-02-14T15:10:40.859675Z",
     "iopub.status.busy": "2023-02-14T15:10:40.858970Z",
     "iopub.status.idle": "2023-02-14T15:10:40.865256Z",
     "shell.execute_reply": "2023-02-14T15:10:40.864259Z",
     "shell.execute_reply.started": "2023-02-14T15:10:40.859636Z"
    }
   },
   "source": [
    "## Lemmatization"
   ]
  },
  {
   "cell_type": "markdown",
   "metadata": {},
   "source": [
    "- CountVactorizer()\n",
    "- Result **Roc Auc**: 0.9425116547815806"
   ]
  },
  {
   "cell_type": "markdown",
   "metadata": {},
   "source": [
    "- TfidfVectorizer()\n",
    "- Result **Roc Auc**: 0.9745174691756769"
   ]
  },
  {
   "cell_type": "markdown",
   "metadata": {},
   "source": [
    "## Light clean"
   ]
  },
  {
   "cell_type": "markdown",
   "metadata": {},
   "source": [
    "- SentenceTransformer()\n",
    "- Result **Roc Auc**: 0.980261883272112"
   ]
  },
  {
   "cell_type": "markdown",
   "metadata": {},
   "source": [
    "# PyTorch RNN model"
   ]
  },
  {
   "cell_type": "code",
   "execution_count": 136,
   "metadata": {
    "execution": {
     "iopub.execute_input": "2023-02-16T21:26:50.039939Z",
     "iopub.status.busy": "2023-02-16T21:26:50.039551Z",
     "iopub.status.idle": "2023-02-16T21:26:50.053450Z",
     "shell.execute_reply": "2023-02-16T21:26:50.052467Z",
     "shell.execute_reply.started": "2023-02-16T21:26:50.039899Z"
    }
   },
   "outputs": [],
   "source": [
    "class UniversalRNN(nn.Module):\n",
    "    \n",
    "    def __init__(\n",
    "        self,\n",
    "        num_embeddings,\n",
    "        out_channels,\n",
    "        rnn_channels=512,\n",
    "        rnn_type=nn.GRU,\n",
    "        n_rnns=1,\n",
    "        bidirectional=True,\n",
    "        average_type=None\n",
    "    ):\n",
    "        super().__init__()\n",
    "        \n",
    "        self.embedding_layer = nn.Embedding(num_embeddings, rnn_channels)\n",
    "        self.rnns = rnn_type(\n",
    "            rnn_channels, \n",
    "            rnn_channels, \n",
    "            bidirectional=bidirectional, \n",
    "            num_layers=n_rnns,\n",
    "            batch_first=True\n",
    "        )\n",
    "        if not (average_type is None or average_type in [\"mean\", \"last\"]):\n",
    "            raise ValueError(f\"{average_type} is nit supported average_type\")\n",
    "        self.average_type = average_type\n",
    "        self.classifier = nn.Linear(\n",
    "            rnn_channels * 2 if bidirectional else rnn_channels, \n",
    "            out_channels, \n",
    "        )\n",
    "        \n",
    "    def forward(self, x):\n",
    "        x = self.embedding_layer(x)\n",
    "        x = self.rnns(x)[0]\n",
    "        if self.average_type is None:\n",
    "            x = self.classifier(x)\n",
    "        else:\n",
    "            # Dimensions [Batch, Time Dimension, Channels]\n",
    "            if self.average_type == \"mean\":\n",
    "                x = x.mean(1)\n",
    "            elif self.average_type == \"last\":\n",
    "                x = x[:,-1,:]\n",
    "            x = self.classifier(x)\n",
    "        return x"
   ]
  },
  {
   "cell_type": "code",
   "execution_count": 137,
   "metadata": {
    "execution": {
     "iopub.execute_input": "2023-02-16T21:26:50.579447Z",
     "iopub.status.busy": "2023-02-16T21:26:50.579064Z",
     "iopub.status.idle": "2023-02-16T21:26:50.616826Z",
     "shell.execute_reply": "2023-02-16T21:26:50.615933Z",
     "shell.execute_reply.started": "2023-02-16T21:26:50.579414Z"
    }
   },
   "outputs": [
    {
     "data": {
      "text/plain": [
       "UniversalRNN(\n",
       "  (embedding_layer): WordEmbeddings(\n",
       "    'glove'\n",
       "    (embedding): Embedding(400001, 100)\n",
       "  )\n",
       "  (rnns): GRU(512, 512, batch_first=True, bidirectional=True)\n",
       "  (classifier): Linear(in_features=1024, out_features=2, bias=True)\n",
       ")"
      ]
     },
     "execution_count": 137,
     "metadata": {},
     "output_type": "execute_result"
    }
   ],
   "source": [
    "nn_model = UniversalRNN(128, 2)\n",
    "nn_model"
   ]
  },
  {
   "cell_type": "code",
   "execution_count": 138,
   "metadata": {
    "execution": {
     "iopub.execute_input": "2023-02-16T21:26:50.814574Z",
     "iopub.status.busy": "2023-02-16T21:26:50.813004Z",
     "iopub.status.idle": "2023-02-16T21:27:00.509015Z",
     "shell.execute_reply": "2023-02-16T21:27:00.507986Z",
     "shell.execute_reply.started": "2023-02-16T21:26:50.814521Z"
    }
   },
   "outputs": [],
   "source": [
    "tokenizer = get_tokenizer('basic_english')\n",
    "\n",
    "def yield_tokens(data_iter):\n",
    "    for text in data_iter:\n",
    "        yield tokenizer(text)\n",
    "\n",
    "vocab = build_vocab_from_iterator(\n",
    "    yield_tokens(train[\"light_clean_comment_text\"]), \n",
    "    specials=[\"<unk>\"]\n",
    ")\n",
    "vocab.set_default_index(vocab[\"<unk>\"])"
   ]
  },
  {
   "cell_type": "code",
   "execution_count": 139,
   "metadata": {
    "execution": {
     "iopub.execute_input": "2023-02-16T21:27:00.511524Z",
     "iopub.status.busy": "2023-02-16T21:27:00.511057Z",
     "iopub.status.idle": "2023-02-16T21:27:00.522807Z",
     "shell.execute_reply": "2023-02-16T21:27:00.521694Z",
     "shell.execute_reply.started": "2023-02-16T21:27:00.511484Z"
    }
   },
   "outputs": [],
   "source": [
    "class TextDataset(torch.utils.data.Dataset):\n",
    "    def __init__(\n",
    "        self,\n",
    "        texts,\n",
    "        targets,\n",
    "        dataset_vocab,\n",
    "        dataset_tokenizer,\n",
    "        max_length,\n",
    "        trim_policy=\"random\"\n",
    "    ):\n",
    "        self.targets = targets\n",
    "        self.texts = texts\n",
    "        self.vocab = dataset_vocab\n",
    "        self.tokenizer = dataset_tokenizer\n",
    "        \n",
    "        self.max_length = max_length\n",
    "        if trim_policy not in [\"random\", \"first\"]:\n",
    "            raise ValueError(f\"{trim_policy} is not valid trim_policy\")\n",
    "        self.trim_policy = trim_policy\n",
    "        \n",
    "    def select_text_subsequance(self, input):\n",
    "        if len(input) < self.max_length:\n",
    "            return input + [0] * (self.max_length - len(input))\n",
    "        elif len(input) > self.max_length:\n",
    "            if self.trim_policy == \"random\":\n",
    "                start = np.random.randint(0, len(input) - self.max_length)\n",
    "            elif self.trim_policy == \"first\":\n",
    "                start = 0\n",
    "            return input[start : start + self.max_length]\n",
    "        else: \n",
    "            return input\n",
    "        \n",
    "    def __getitem__(self, idx):\n",
    "        text_ids = self.vocab(self.tokenizer(self.texts[idx]))\n",
    "        # In order to form batch, which is a tensor - we have to get sequnces of same length\n",
    "        text_ids = self.select_text_subsequance(text_ids)\n",
    "        return (\n",
    "            torch.LongTensor(text_ids), \n",
    "            torch.from_numpy(self.targets[idx]).float()\n",
    "        )\n",
    "    \n",
    "    def __len__(self):\n",
    "        return len(self.texts)"
   ]
  },
  {
   "cell_type": "code",
   "execution_count": 140,
   "metadata": {
    "execution": {
     "iopub.execute_input": "2023-02-16T21:27:00.525369Z",
     "iopub.status.busy": "2023-02-16T21:27:00.524677Z",
     "iopub.status.idle": "2023-02-16T21:27:06.520565Z",
     "shell.execute_reply": "2023-02-16T21:27:06.519239Z",
     "shell.execute_reply.started": "2023-02-16T21:27:00.525331Z"
    }
   },
   "outputs": [
    {
     "data": {
      "image/png": "[encoded data removed]",
      "text/plain": [
       "<Figure size 432x288 with 1 Axes>"
      ]
     },
     "metadata": {
      "needs_background": "light"
     },
     "output_type": "display_data"
    },
    {
     "name": "stdout",
     "output_type": "stream",
     "text": [
      "0.95 Quantile of N tokens: 266.5\n"
     ]
    }
   ],
   "source": [
    "train_n_tokens = train[\"light_clean_comment_text\"].apply(lambda x : len(tokenizer(x)))\n",
    "\n",
    "plt.title(\"Train N Tokens Distribution\")\n",
    "train_n_tokens.hist(bins=100)\n",
    "plt.show()\n",
    "\n",
    "print(f\"0.95 Quantile of N tokens: {np.quantile(train_n_tokens, 0.95)}\")"
   ]
  },
  {
   "cell_type": "code",
   "execution_count": 141,
   "metadata": {
    "execution": {
     "iopub.execute_input": "2023-02-16T21:27:06.524889Z",
     "iopub.status.busy": "2023-02-16T21:27:06.523826Z",
     "iopub.status.idle": "2023-02-16T21:27:06.539496Z",
     "shell.execute_reply": "2023-02-16T21:27:06.538420Z",
     "shell.execute_reply.started": "2023-02-16T21:27:06.524853Z"
    }
   },
   "outputs": [],
   "source": [
    "max_tokens = 300\n",
    "\n",
    "train_torch_dataset = TextDataset(\n",
    "    texts=train[\"light_clean_comment_text\"].to_list(),\n",
    "    targets=train[target_columns].values,\n",
    "    dataset_vocab=vocab,\n",
    "    dataset_tokenizer=tokenizer,\n",
    "    max_length=max_tokens,\n",
    "    # trim_policy=\"first\"\n",
    ")"
   ]
  },
  {
   "cell_type": "code",
   "execution_count": 142,
   "metadata": {
    "execution": {
     "iopub.execute_input": "2023-02-16T21:27:06.541782Z",
     "iopub.status.busy": "2023-02-16T21:27:06.541282Z",
     "iopub.status.idle": "2023-02-16T21:27:06.550806Z",
     "shell.execute_reply": "2023-02-16T21:27:06.549732Z",
     "shell.execute_reply.started": "2023-02-16T21:27:06.541747Z"
    }
   },
   "outputs": [],
   "source": [
    "train_torch_dataloader = torch.utils.data.DataLoader(\n",
    "    train_torch_dataset,\n",
    "    batch_size=16,\n",
    "    shuffle=True,\n",
    "    drop_last=True,\n",
    "    pin_memory=True\n",
    ")"
   ]
  },
  {
   "cell_type": "code",
   "execution_count": 143,
   "metadata": {
    "execution": {
     "iopub.execute_input": "2023-02-16T21:27:06.553308Z",
     "iopub.status.busy": "2023-02-16T21:27:06.552866Z",
     "iopub.status.idle": "2023-02-16T21:27:06.566796Z",
     "shell.execute_reply": "2023-02-16T21:27:06.565908Z",
     "shell.execute_reply.started": "2023-02-16T21:27:06.553269Z"
    }
   },
   "outputs": [],
   "source": [
    "def torch_loop(\n",
    "    dataloader, \n",
    "    inp_model,\n",
    "    inp_optimizer,\n",
    "    inp_criterion,\n",
    "    mode=\"train\",\n",
    "    device=\"cuda\"\n",
    "):\n",
    "    if mode == \"train\":\n",
    "        inp_model.train()\n",
    "    else:\n",
    "        inp_model.eval()\n",
    "    all_predicted_label = []\n",
    "    all_losses = []\n",
    "    all_targets = []\n",
    "    with torch.inference_mode(mode=(mode != \"train\")):\n",
    "        for text, label in tqdm(dataloader):\n",
    "            text, label = text.to(device), label.to(device)\n",
    "            if mode == \"train\":\n",
    "                inp_optimizer.zero_grad()\n",
    "            # 1.1 Compute Forward path\n",
    "            predicted_label = inp_model(text)\n",
    "            # 1.2 Compute Cost function (part of Forward path)\n",
    "            loss = criterion(predicted_label, label)\n",
    "            if mode == \"train\":\n",
    "                # 2. Compute Backward path\n",
    "                loss.mean().backward()\n",
    "                # torch.nn.utils.clip_grad_norm_(model.parameters(), 0.1)\n",
    "                # 3. Apply gradient descent `on steroids` \n",
    "                optimizer.step()\n",
    "                \n",
    "            # Accumulate stats\n",
    "            # We receive logits and we have to transform them into `probs`. That is why sigmoid is used\n",
    "            all_predicted_label.append(torch.sigmoid(predicted_label.detach()).cpu().numpy())\n",
    "            all_losses.append(loss.detach().cpu().numpy())\n",
    "            all_targets.append(label.detach().cpu().numpy())\n",
    "    all_predicted_label = np.concatenate(all_predicted_label)\n",
    "    all_losses = np.concatenate(all_losses)\n",
    "    all_targets = np.concatenate(all_targets)\n",
    "    \n",
    "    return all_predicted_label, all_losses, all_targets\n",
    "\n",
    "def print_losses(input):\n",
    "    for cls_idx, cls_name in enumerate(target_columns):\n",
    "        print(f\"{cls_name} BCE loss: {input[:,cls_idx].mean()}\")\n",
    "    print(f\"Result BCE loss: {input.mean()}\")"
   ]
  },
  {
   "cell_type": "code",
   "execution_count": 144,
   "metadata": {
    "execution": {
     "iopub.execute_input": "2023-02-16T21:27:06.568989Z",
     "iopub.status.busy": "2023-02-16T21:27:06.568213Z",
     "iopub.status.idle": "2023-02-16T21:27:06.607865Z",
     "shell.execute_reply": "2023-02-16T21:27:06.606759Z",
     "shell.execute_reply.started": "2023-02-16T21:27:06.568954Z"
    }
   },
   "outputs": [],
   "source": [
    "nn_model = UniversalRNN(\n",
    "    num_embeddings=len(vocab),\n",
    "    out_channels=len(target_columns),\n",
    "    average_type=\"mean\"\n",
    ").to(\"cuda\")\n",
    "\n",
    "criterion = torch.nn.BCEWithLogitsLoss(reduction=\"none\")\n",
    "optimizer = torch.optim.Adam(nn_model.parameters(), lr=0.001, amsgrad=True)\n",
    "scheduler = torch.optim.lr_scheduler.ReduceLROnPlateau(optimizer, patience=10, factor=0.25, min_lr=1e-7, mode=\"max\", verbose=True)"
   ]
  },
  {
   "cell_type": "code",
   "execution_count": 145,
   "metadata": {
    "execution": {
     "iopub.execute_input": "2023-02-16T21:27:06.609804Z",
     "iopub.status.busy": "2023-02-16T21:27:06.609219Z",
     "iopub.status.idle": "2023-02-16T21:27:06.901458Z",
     "shell.execute_reply": "2023-02-16T21:27:06.900276Z",
     "shell.execute_reply.started": "2023-02-16T21:27:06.609765Z"
    }
   },
   "outputs": [],
   "source": [
    "folds_ids = [el for el in stratifier.split(train, train[\"stratified_target\"])]\n",
    "\n",
    "train_torch_dataset = TextDataset(\n",
    "    texts=train.iloc[folds_ids[0][0]][\"light_clean_comment_text\"].to_list(),\n",
    "    targets=train.iloc[folds_ids[0][0]][target_columns].values,\n",
    "    dataset_vocab=vocab,\n",
    "    dataset_tokenizer=tokenizer,\n",
    "    max_length=max_tokens,\n",
    ")\n",
    "\n",
    "train_torch_dataloader = torch.utils.data.DataLoader(\n",
    "    train_torch_dataset,\n",
    "    batch_size=32,\n",
    "    shuffle=True,\n",
    "    drop_last=True,\n",
    "    pin_memory=True,\n",
    "    num_workers=2\n",
    ")\n",
    "\n",
    "valid_torch_dataset = TextDataset(\n",
    "    texts=train.iloc[folds_ids[0][1]][\"light_clean_comment_text\"].to_list(),\n",
    "    targets=train.iloc[folds_ids[0][1]][target_columns].values,\n",
    "    dataset_vocab=vocab,\n",
    "    dataset_tokenizer=tokenizer,\n",
    "    max_length=max_tokens,\n",
    "    trim_policy=\"first\"\n",
    ")\n",
    "valid_torch_dataloader = torch.utils.data.DataLoader(\n",
    "    valid_torch_dataset,\n",
    "    batch_size=32,\n",
    "    shuffle=False,\n",
    "    drop_last=False,\n",
    "    pin_memory=True,\n",
    "    num_workers=2\n",
    ")"
   ]
  },
  {
   "cell_type": "code",
   "execution_count": 146,
   "metadata": {
    "execution": {
     "iopub.execute_input": "2023-02-16T21:27:06.904078Z",
     "iopub.status.busy": "2023-02-16T21:27:06.903198Z",
     "iopub.status.idle": "2023-02-16T21:27:07.306295Z",
     "shell.execute_reply": "2023-02-16T21:27:07.304699Z",
     "shell.execute_reply.started": "2023-02-16T21:27:06.904032Z"
    }
   },
   "outputs": [
    {
     "name": "stdout",
     "output_type": "stream",
     "text": [
      "Starting Epoch 1\n",
      "Train phase\n"
     ]
    },
    {
     "name": "stderr",
     "output_type": "stream",
     "text": [
      "  0%|          | 0/3989 [00:00<?, ?it/s]\n"
     ]
    },
    {
     "ename": "NotImplementedError",
     "evalue": "",
     "output_type": "error",
     "traceback": [
      "\u001b[0;31m---------------------------------------------------------------------------\u001b[0m",
      "\u001b[0;31mNotImplementedError\u001b[0m                       Traceback (most recent call last)",
      "\u001b[0;32m/tmp/ipykernel_23/2021837971.py\u001b[0m in \u001b[0;36m<module>\u001b[0;34m\u001b[0m\n\u001b[1;32m     23\u001b[0m         \u001b[0minp_criterion\u001b[0m\u001b[0;34m=\u001b[0m\u001b[0mcriterion\u001b[0m\u001b[0;34m,\u001b[0m\u001b[0;34m\u001b[0m\u001b[0;34m\u001b[0m\u001b[0m\n\u001b[1;32m     24\u001b[0m         \u001b[0mdevice\u001b[0m\u001b[0;34m=\u001b[0m\u001b[0;34m\"cuda\"\u001b[0m\u001b[0;34m,\u001b[0m\u001b[0;34m\u001b[0m\u001b[0;34m\u001b[0m\u001b[0m\n\u001b[0;32m---> 25\u001b[0;31m         \u001b[0mmode\u001b[0m\u001b[0;34m=\u001b[0m\u001b[0;34m\"train\"\u001b[0m\u001b[0;34m\u001b[0m\u001b[0;34m\u001b[0m\u001b[0m\n\u001b[0m\u001b[1;32m     26\u001b[0m     )\n\u001b[1;32m     27\u001b[0m     \u001b[0;31m# 1.2 Compute and print train metrics\u001b[0m\u001b[0;34m\u001b[0m\u001b[0;34m\u001b[0m\u001b[0;34m\u001b[0m\u001b[0m\n",
      "\u001b[0;32m/tmp/ipykernel_23/3794483302.py\u001b[0m in \u001b[0;36mtorch_loop\u001b[0;34m(dataloader, inp_model, inp_optimizer, inp_criterion, mode, device)\u001b[0m\n\u001b[1;32m     20\u001b[0m                 \u001b[0minp_optimizer\u001b[0m\u001b[0;34m.\u001b[0m\u001b[0mzero_grad\u001b[0m\u001b[0;34m(\u001b[0m\u001b[0;34m)\u001b[0m\u001b[0;34m\u001b[0m\u001b[0;34m\u001b[0m\u001b[0m\n\u001b[1;32m     21\u001b[0m             \u001b[0;31m# 1.1 Compute Forward path\u001b[0m\u001b[0;34m\u001b[0m\u001b[0;34m\u001b[0m\u001b[0;34m\u001b[0m\u001b[0m\n\u001b[0;32m---> 22\u001b[0;31m             \u001b[0mpredicted_label\u001b[0m \u001b[0;34m=\u001b[0m \u001b[0minp_model\u001b[0m\u001b[0;34m(\u001b[0m\u001b[0mtext\u001b[0m\u001b[0;34m)\u001b[0m\u001b[0;34m\u001b[0m\u001b[0;34m\u001b[0m\u001b[0m\n\u001b[0m\u001b[1;32m     23\u001b[0m             \u001b[0;31m# 1.2 Compute Cost function (part of Forward path)\u001b[0m\u001b[0;34m\u001b[0m\u001b[0;34m\u001b[0m\u001b[0;34m\u001b[0m\u001b[0m\n\u001b[1;32m     24\u001b[0m             \u001b[0mloss\u001b[0m \u001b[0;34m=\u001b[0m \u001b[0mcriterion\u001b[0m\u001b[0;34m(\u001b[0m\u001b[0mpredicted_label\u001b[0m\u001b[0;34m,\u001b[0m \u001b[0mlabel\u001b[0m\u001b[0;34m)\u001b[0m\u001b[0;34m\u001b[0m\u001b[0;34m\u001b[0m\u001b[0m\n",
      "\u001b[0;32m/opt/conda/lib/python3.7/site-packages/torch/nn/modules/module.py\u001b[0m in \u001b[0;36m_call_impl\u001b[0;34m(self, *input, **kwargs)\u001b[0m\n\u001b[1;32m   1108\u001b[0m         if not (self._backward_hooks or self._forward_hooks or self._forward_pre_hooks or _global_backward_hooks\n\u001b[1;32m   1109\u001b[0m                 or _global_forward_hooks or _global_forward_pre_hooks):\n\u001b[0;32m-> 1110\u001b[0;31m             \u001b[0;32mreturn\u001b[0m \u001b[0mforward_call\u001b[0m\u001b[0;34m(\u001b[0m\u001b[0;34m*\u001b[0m\u001b[0minput\u001b[0m\u001b[0;34m,\u001b[0m \u001b[0;34m**\u001b[0m\u001b[0mkwargs\u001b[0m\u001b[0;34m)\u001b[0m\u001b[0;34m\u001b[0m\u001b[0;34m\u001b[0m\u001b[0m\n\u001b[0m\u001b[1;32m   1111\u001b[0m         \u001b[0;31m# Do not call functions when jit is used\u001b[0m\u001b[0;34m\u001b[0m\u001b[0;34m\u001b[0m\u001b[0;34m\u001b[0m\u001b[0m\n\u001b[1;32m   1112\u001b[0m         \u001b[0mfull_backward_hooks\u001b[0m\u001b[0;34m,\u001b[0m \u001b[0mnon_full_backward_hooks\u001b[0m \u001b[0;34m=\u001b[0m \u001b[0;34m[\u001b[0m\u001b[0;34m]\u001b[0m\u001b[0;34m,\u001b[0m \u001b[0;34m[\u001b[0m\u001b[0;34m]\u001b[0m\u001b[0;34m\u001b[0m\u001b[0;34m\u001b[0m\u001b[0m\n",
      "\u001b[0;32m/tmp/ipykernel_23/1533276107.py\u001b[0m in \u001b[0;36mforward\u001b[0;34m(self, x)\u001b[0m\n\u001b[1;32m     31\u001b[0m \u001b[0;34m\u001b[0m\u001b[0m\n\u001b[1;32m     32\u001b[0m     \u001b[0;32mdef\u001b[0m \u001b[0mforward\u001b[0m\u001b[0;34m(\u001b[0m\u001b[0mself\u001b[0m\u001b[0;34m,\u001b[0m \u001b[0mx\u001b[0m\u001b[0;34m)\u001b[0m\u001b[0;34m:\u001b[0m\u001b[0;34m\u001b[0m\u001b[0;34m\u001b[0m\u001b[0m\n\u001b[0;32m---> 33\u001b[0;31m         \u001b[0mx\u001b[0m \u001b[0;34m=\u001b[0m \u001b[0mself\u001b[0m\u001b[0;34m.\u001b[0m\u001b[0membedding_layer\u001b[0m\u001b[0;34m(\u001b[0m\u001b[0mx\u001b[0m\u001b[0;34m)\u001b[0m\u001b[0;34m\u001b[0m\u001b[0;34m\u001b[0m\u001b[0m\n\u001b[0m\u001b[1;32m     34\u001b[0m         \u001b[0mx\u001b[0m \u001b[0;34m=\u001b[0m \u001b[0mself\u001b[0m\u001b[0;34m.\u001b[0m\u001b[0mrnns\u001b[0m\u001b[0;34m(\u001b[0m\u001b[0mx\u001b[0m\u001b[0;34m)\u001b[0m\u001b[0;34m[\u001b[0m\u001b[0;36m0\u001b[0m\u001b[0;34m]\u001b[0m\u001b[0;34m\u001b[0m\u001b[0;34m\u001b[0m\u001b[0m\n\u001b[1;32m     35\u001b[0m         \u001b[0;32mif\u001b[0m \u001b[0mself\u001b[0m\u001b[0;34m.\u001b[0m\u001b[0maverage_type\u001b[0m \u001b[0;32mis\u001b[0m \u001b[0;32mNone\u001b[0m\u001b[0;34m:\u001b[0m\u001b[0;34m\u001b[0m\u001b[0;34m\u001b[0m\u001b[0m\n",
      "\u001b[0;32m/opt/conda/lib/python3.7/site-packages/torch/nn/modules/module.py\u001b[0m in \u001b[0;36m_call_impl\u001b[0;34m(self, *input, **kwargs)\u001b[0m\n\u001b[1;32m   1108\u001b[0m         if not (self._backward_hooks or self._forward_hooks or self._forward_pre_hooks or _global_backward_hooks\n\u001b[1;32m   1109\u001b[0m                 or _global_forward_hooks or _global_forward_pre_hooks):\n\u001b[0;32m-> 1110\u001b[0;31m             \u001b[0;32mreturn\u001b[0m \u001b[0mforward_call\u001b[0m\u001b[0;34m(\u001b[0m\u001b[0;34m*\u001b[0m\u001b[0minput\u001b[0m\u001b[0;34m,\u001b[0m \u001b[0;34m**\u001b[0m\u001b[0mkwargs\u001b[0m\u001b[0;34m)\u001b[0m\u001b[0;34m\u001b[0m\u001b[0;34m\u001b[0m\u001b[0m\n\u001b[0m\u001b[1;32m   1111\u001b[0m         \u001b[0;31m# Do not call functions when jit is used\u001b[0m\u001b[0;34m\u001b[0m\u001b[0;34m\u001b[0m\u001b[0;34m\u001b[0m\u001b[0m\n\u001b[1;32m   1112\u001b[0m         \u001b[0mfull_backward_hooks\u001b[0m\u001b[0;34m,\u001b[0m \u001b[0mnon_full_backward_hooks\u001b[0m \u001b[0;34m=\u001b[0m \u001b[0;34m[\u001b[0m\u001b[0;34m]\u001b[0m\u001b[0;34m,\u001b[0m \u001b[0;34m[\u001b[0m\u001b[0;34m]\u001b[0m\u001b[0;34m\u001b[0m\u001b[0;34m\u001b[0m\u001b[0m\n",
      "\u001b[0;32m/opt/conda/lib/python3.7/site-packages/torch/nn/modules/module.py\u001b[0m in \u001b[0;36m_forward_unimplemented\u001b[0;34m(self, *input)\u001b[0m\n\u001b[1;32m    199\u001b[0m         \u001b[0mregistered\u001b[0m \u001b[0mhooks\u001b[0m \u001b[0;32mwhile\u001b[0m \u001b[0mthe\u001b[0m \u001b[0mlatter\u001b[0m \u001b[0msilently\u001b[0m \u001b[0mignores\u001b[0m \u001b[0mthem\u001b[0m\u001b[0;34m.\u001b[0m\u001b[0;34m\u001b[0m\u001b[0;34m\u001b[0m\u001b[0m\n\u001b[1;32m    200\u001b[0m     \"\"\"\n\u001b[0;32m--> 201\u001b[0;31m     \u001b[0;32mraise\u001b[0m \u001b[0mNotImplementedError\u001b[0m\u001b[0;34m\u001b[0m\u001b[0;34m\u001b[0m\u001b[0m\n\u001b[0m\u001b[1;32m    202\u001b[0m \u001b[0;34m\u001b[0m\u001b[0m\n\u001b[1;32m    203\u001b[0m \u001b[0;34m\u001b[0m\u001b[0m\n",
      "\u001b[0;31mNotImplementedError\u001b[0m: "
     ]
    }
   ],
   "source": [
    "n_epochs = 3\n",
    "\n",
    "train_all_epoch_labels = []\n",
    "train_all_epoch_losses = []\n",
    "train_all_epoch_targets = []\n",
    "valid_all_epoch_labels = []\n",
    "valid_all_epoch_losses = []\n",
    "valid_all_epoch_targets = []\n",
    "valid_roc_aucs = []\n",
    "train_roc_aucs = []\n",
    "\n",
    "best_metric = - np.inf\n",
    "best_model_state_dict = None\n",
    "\n",
    "for epoch in range(n_epochs):\n",
    "    print(f\"Starting Epoch {epoch+1}\")\n",
    "    # 1.1 Iterate over all train dataset and update model weights\n",
    "    print(\"Train phase\")\n",
    "    train_epoch_labels, train_epoch_losses, train_epoch_targets = torch_loop(\n",
    "        dataloader=train_torch_dataloader, \n",
    "        inp_model=nn_model,\n",
    "        inp_optimizer=optimizer,\n",
    "        inp_criterion=criterion,\n",
    "        device=\"cuda\",\n",
    "        mode=\"train\"\n",
    "    )\n",
    "    # 1.2 Compute and print train metrics\n",
    "    print(\"Train metrics\")\n",
    "    _, train_roc_auc = compute_metric(\n",
    "        train_epoch_targets, \n",
    "        train_epoch_labels\n",
    "    )\n",
    "    print(\"Train BCE losses\")\n",
    "    print_losses(train_epoch_losses)\n",
    "    # 2.1 Iterate over all valid dataset and compute predictions\n",
    "    print(\"Valid phase\")\n",
    "    valid_epoch_labels, valid_epoch_losses, valid_epoch_targets = torch_loop(\n",
    "        dataloader=valid_torch_dataloader, \n",
    "        inp_model=nn_model,\n",
    "        inp_optimizer=optimizer,\n",
    "        inp_criterion=criterion,\n",
    "        device=\"cuda\",\n",
    "        mode=\"eval\"\n",
    "    )\n",
    "    # 2.2 Compute and print valid metrics\n",
    "    print(\"Valid metrics\")\n",
    "    _, valid_roc_auc = compute_metric(\n",
    "        valid_epoch_targets, \n",
    "        valid_epoch_labels\n",
    "    )\n",
    "    print(\"Valid BCE losses\")\n",
    "    print_losses(valid_epoch_losses)\n",
    "    # 3. Update learning rate (if needed)\n",
    "    scheduler.step(valid_roc_auc)\n",
    "    # 4. Save best model\n",
    "    if valid_roc_auc > best_metric:\n",
    "        best_metric = valid_roc_auc\n",
    "        best_model_state_dict = deepcopy(nn_model.state_dict())\n",
    "    # 5. Accumulate all stats  \n",
    "    train_all_epoch_labels.append(train_epoch_labels)\n",
    "    train_all_epoch_losses.append(train_epoch_losses)\n",
    "    train_all_epoch_targets.append(train_epoch_targets)\n",
    "    valid_all_epoch_labels.append(valid_epoch_labels)\n",
    "    valid_all_epoch_losses.append(valid_epoch_losses)\n",
    "    valid_all_epoch_targets.append(valid_epoch_targets)\n",
    "    valid_roc_aucs.append(valid_roc_auc)\n",
    "    train_roc_aucs.append(train_roc_auc)"
   ]
  },
  {
   "cell_type": "code",
   "execution_count": 117,
   "metadata": {
    "execution": {
     "iopub.execute_input": "2023-02-16T21:01:38.966411Z",
     "iopub.status.busy": "2023-02-16T21:01:38.965890Z",
     "iopub.status.idle": "2023-02-16T21:01:39.200468Z",
     "shell.execute_reply": "2023-02-16T21:01:39.199220Z",
     "shell.execute_reply.started": "2023-02-16T21:01:38.966355Z"
    }
   },
   "outputs": [
    {
     "data": {
      "image/png": "[encoded data removed]",
      "text/plain": [
       "<Figure size 432x288 with 1 Axes>"
      ]
     },
     "metadata": {
      "needs_background": "light"
     },
     "output_type": "display_data"
    }
   ],
   "source": [
    "plt.title(\"Roc Auc dynamic\")\n",
    "plt.plot(valid_roc_aucs, label=\"valid\")\n",
    "plt.plot(train_roc_aucs, label=\"train\")\n",
    "plt.legend()\n",
    "plt.show()"
   ]
  },
  {
   "cell_type": "code",
   "execution_count": 118,
   "metadata": {
    "execution": {
     "iopub.execute_input": "2023-02-16T21:01:39.202339Z",
     "iopub.status.busy": "2023-02-16T21:01:39.201760Z",
     "iopub.status.idle": "2023-02-16T21:01:39.429868Z",
     "shell.execute_reply": "2023-02-16T21:01:39.428909Z",
     "shell.execute_reply.started": "2023-02-16T21:01:39.202304Z"
    }
   },
   "outputs": [
    {
     "data": {
      "image/png": "[encoded data removed]",
      "text/plain": [
       "<Figure size 432x288 with 1 Axes>"
      ]
     },
     "metadata": {
      "needs_background": "light"
     },
     "output_type": "display_data"
    }
   ],
   "source": [
    "valid_bce = []\n",
    "train_bce = []\n",
    "for i in range (n_epochs):\n",
    "    valid_bce.append(valid_all_epoch_losses[i].mean())\n",
    "    train_bce.append(train_all_epoch_losses[i].mean())\n",
    "plt.title(\"BCE loss dynamic\")\n",
    "plt.plot(valid_bce, label=\"valid\")\n",
    "plt.plot(train_bce, label=\"train\")\n",
    "plt.legend()\n",
    "plt.show()"
   ]
  },
  {
   "cell_type": "code",
   "execution_count": 119,
   "metadata": {
    "execution": {
     "iopub.execute_input": "2023-02-16T21:01:39.432607Z",
     "iopub.status.busy": "2023-02-16T21:01:39.431534Z",
     "iopub.status.idle": "2023-02-16T21:01:39.442633Z",
     "shell.execute_reply": "2023-02-16T21:01:39.441679Z",
     "shell.execute_reply.started": "2023-02-16T21:01:39.432558Z"
    }
   },
   "outputs": [],
   "source": [
    "def classification_report(y_true, y_pred, verbose=True, tresh=0.5):\n",
    "    assert y_true.shape == y_pred.shape\n",
    "    roc_aucs = [roc_auc_score(y_true[:,i], y_pred[:,i]) for i in range(y_pred.shape[1])]\n",
    "    accuracies = [accuracy_score(y_true[:,i], y_pred[:,i] > tresh) for i in range(y_pred.shape[1])]\n",
    "    precisions = [precision_score(y_true[:,i], y_pred[:,i] > tresh) for i in range(y_pred.shape[1])]\n",
    "    recalls = [recall_score(y_true[:,i], y_pred[:,i] > tresh) for i in range(y_pred.shape[1])]\n",
    "    if verbose:\n",
    "        print(f\"Result Accuracy: {np.mean(accuracies)}\")\n",
    "        print(f\"Result Precision: {np.mean(precisions)}\")\n",
    "        print(f\"Result Recall: {np.mean(recalls)}\")\n",
    "        print(f\"Result Roc Auc: {np.mean(roc_aucs)}\")\n",
    "    plt.figure(figsize=(10,10))\n",
    "    cm = confusion_matrix(\n",
    "            y_true[:,i], \n",
    "            y_pred[:,i] > tresh, \n",
    "        )\n",
    "    disp = ConfusionMatrixDisplay(\n",
    "            confusion_matrix=cm\n",
    "        )\n",
    "    disp.plot()\n",
    "    plt.show()"
   ]
  },
  {
   "cell_type": "code",
   "execution_count": 120,
   "metadata": {
    "execution": {
     "iopub.execute_input": "2023-02-16T21:01:39.446187Z",
     "iopub.status.busy": "2023-02-16T21:01:39.445834Z",
     "iopub.status.idle": "2023-02-16T21:01:45.131357Z",
     "shell.execute_reply": "2023-02-16T21:01:45.130322Z",
     "shell.execute_reply.started": "2023-02-16T21:01:39.446160Z"
    },
    "scrolled": false
   },
   "outputs": [
    {
     "name": "stdout",
     "output_type": "stream",
     "text": [
      "Train\n",
      "Result Accuracy: 0.9794865567811483\n",
      "Result Precision: 0.5968293279144208\n",
      "Result Recall: 0.3818286554033405\n",
      "Result Roc Auc: 0.9576439845831338\n"
     ]
    },
    {
     "data": {
      "text/plain": [
       "<Figure size 720x720 with 0 Axes>"
      ]
     },
     "metadata": {},
     "output_type": "display_data"
    },
    {
     "data": {
      "image/png": "[encoded data removed]",
      "text/plain": [
       "<Figure size 432x288 with 2 Axes>"
      ]
     },
     "metadata": {
      "needs_background": "light"
     },
     "output_type": "display_data"
    },
    {
     "name": "stdout",
     "output_type": "stream",
     "text": [
      "\n",
      "Result Accuracy: 0.9850500334252529\n",
      "Result Precision: 0.717930617047466\n",
      "Result Recall: 0.5389756301014247\n",
      "Result Roc Auc: 0.987729220739352\n"
     ]
    },
    {
     "data": {
      "text/plain": [
       "<Figure size 720x720 with 0 Axes>"
      ]
     },
     "metadata": {},
     "output_type": "display_data"
    },
    {
     "data": {
      "image/png": "[encoded data removed]",
      "text/plain": [
       "<Figure size 432x288 with 2 Axes>"
      ]
     },
     "metadata": {
      "needs_background": "light"
     },
     "output_type": "display_data"
    },
    {
     "name": "stdout",
     "output_type": "stream",
     "text": [
      "\n",
      "Result Accuracy: 0.9892934737193949\n",
      "Result Precision: 0.8068866224050958\n",
      "Result Recall: 0.6702584274670365\n",
      "Result Roc Auc: 0.9949027379203601\n"
     ]
    },
    {
     "data": {
      "text/plain": [
       "<Figure size 720x720 with 0 Axes>"
      ]
     },
     "metadata": {},
     "output_type": "display_data"
    },
    {
     "data": {
      "image/png": "[encoded data removed]",
      "text/plain": [
       "<Figure size 432x288 with 2 Axes>"
      ]
     },
     "metadata": {
      "needs_background": "light"
     },
     "output_type": "display_data"
    },
    {
     "name": "stdout",
     "output_type": "stream",
     "text": [
      "\n",
      "Valid\n",
      "Result Accuracy: 0.9818685048827615\n",
      "Result Precision: 0.7737521725623502\n",
      "Result Recall: 0.43723976950285176\n",
      "Result Roc Auc: 0.9777858609887078\n"
     ]
    },
    {
     "data": {
      "text/plain": [
       "<Figure size 720x720 with 0 Axes>"
      ]
     },
     "metadata": {},
     "output_type": "display_data"
    },
    {
     "data": {
      "image/png": "[encoded data removed]",
      "text/plain": [
       "<Figure size 432x288 with 2 Axes>"
      ]
     },
     "metadata": {
      "needs_background": "light"
     },
     "output_type": "display_data"
    },
    {
     "name": "stdout",
     "output_type": "stream",
     "text": [
      "\n",
      "Result Accuracy: 0.982547391508695\n",
      "Result Precision: 0.7357074016035833\n",
      "Result Recall: 0.49108656656719546\n",
      "Result Roc Auc: 0.9794663054524356\n"
     ]
    },
    {
     "data": {
      "text/plain": [
       "<Figure size 720x720 with 0 Axes>"
      ]
     },
     "metadata": {},
     "output_type": "display_data"
    },
    {
     "data": {
      "image/png": "[encoded data removed]",
      "text/plain": [
       "<Figure size 432x288 with 2 Axes>"
      ]
     },
     "metadata": {
      "needs_background": "light"
     },
     "output_type": "display_data"
    },
    {
     "name": "stdout",
     "output_type": "stream",
     "text": [
      "\n",
      "Result Accuracy: 0.9809337302208992\n",
      "Result Precision: 0.6753764385444493\n",
      "Result Recall: 0.5262138145899513\n",
      "Result Roc Auc: 0.9783072326530484\n"
     ]
    },
    {
     "data": {
      "text/plain": [
       "<Figure size 720x720 with 0 Axes>"
      ]
     },
     "metadata": {},
     "output_type": "display_data"
    },
    {
     "data": {
      "image/png": "[encoded data removed]",
      "text/plain": [
       "<Figure size 432x288 with 2 Axes>"
      ]
     },
     "metadata": {
      "needs_background": "light"
     },
     "output_type": "display_data"
    },
    {
     "name": "stdout",
     "output_type": "stream",
     "text": [
      "\n"
     ]
    }
   ],
   "source": [
    "print(\"Train\")\n",
    "for i in range(n_epochs):\n",
    "    classification_report(train_all_epoch_targets[i], train_all_epoch_labels[i])\n",
    "    print()\n",
    "print(\"Valid\")\n",
    "for i in range(n_epochs):\n",
    "    classification_report(valid_all_epoch_targets[i], valid_all_epoch_labels[i])\n",
    "    print()"
   ]
  },
  {
   "cell_type": "code",
   "execution_count": 121,
   "metadata": {
    "execution": {
     "iopub.execute_input": "2023-02-16T21:01:45.133846Z",
     "iopub.status.busy": "2023-02-16T21:01:45.132923Z",
     "iopub.status.idle": "2023-02-16T21:02:31.710465Z",
     "shell.execute_reply": "2023-02-16T21:02:31.708523Z",
     "shell.execute_reply.started": "2023-02-16T21:01:45.133808Z"
    }
   },
   "outputs": [
    {
     "name": "stderr",
     "output_type": "stream",
     "text": [
      "100%|██████████| 2000/2000 [00:46<00:00, 43.04it/s]\n"
     ]
    }
   ],
   "source": [
    "# Load best model\n",
    "nn_model.load_state_dict(best_model_state_dict)\n",
    "\n",
    "test_torch_dataset = TextDataset(\n",
    "    texts=test[\"light_clean_comment_text\"].to_list(),\n",
    "    targets=test[target_columns].values,\n",
    "    dataset_vocab=vocab,\n",
    "    dataset_tokenizer=tokenizer,\n",
    "    max_length=max_tokens,\n",
    "    trim_policy=\"first\"\n",
    ")\n",
    "test_torch_dataloader = torch.utils.data.DataLoader(\n",
    "    test_torch_dataset,\n",
    "    batch_size=32,\n",
    "    shuffle=False,\n",
    "    drop_last=False,\n",
    "    num_workers=2,\n",
    "    pin_memory=True\n",
    ")\n",
    "\n",
    "test_labels, test_losses, test_targets = torch_loop(\n",
    "    dataloader=test_torch_dataloader, \n",
    "    inp_model=nn_model,\n",
    "    inp_optimizer=optimizer,\n",
    "    inp_criterion=criterion,\n",
    "    device=\"cuda\",\n",
    "    mode=\"eval\"\n",
    ")"
   ]
  },
  {
   "cell_type": "code",
   "execution_count": 122,
   "metadata": {
    "execution": {
     "iopub.execute_input": "2023-02-16T21:02:31.713152Z",
     "iopub.status.busy": "2023-02-16T21:02:31.712784Z",
     "iopub.status.idle": "2023-02-16T21:02:31.841849Z",
     "shell.execute_reply": "2023-02-16T21:02:31.840754Z",
     "shell.execute_reply.started": "2023-02-16T21:02:31.713108Z"
    }
   },
   "outputs": [
    {
     "name": "stdout",
     "output_type": "stream",
     "text": [
      "Test metrics\n",
      "toxic Roc Auc: 0.9615510410908422\n",
      "severe_toxic Roc Auc: 0.9866322196686202\n",
      "obscene Roc Auc: 0.9722044580965525\n",
      "threat Roc Auc: 0.9853194802731537\n",
      "insult Roc Auc: 0.970595346420808\n",
      "identity_hate Roc Auc: 0.9710323533204017\n",
      "Result Roc Auc: 0.9745558164783964\n",
      "Test BCE losses\n",
      "toxic BCE loss: 0.20189039409160614\n",
      "severe_toxic BCE loss: 0.019062239676713943\n",
      "obscene BCE loss: 0.09320046752691269\n",
      "threat BCE loss: 0.010579206980764866\n",
      "insult BCE loss: 0.08836175501346588\n",
      "identity_hate BCE loss: 0.03016795963048935\n",
      "Result BCE loss: 0.0738770142197609\n"
     ]
    }
   ],
   "source": [
    "print(\"Test metrics\")\n",
    "compute_metric(\n",
    "    test_targets, \n",
    "    test_labels\n",
    ");\n",
    "print(\"Test BCE losses\")\n",
    "print_losses(test_losses)"
   ]
  },
  {
   "cell_type": "markdown",
   "metadata": {},
   "source": [
    "## Gradient clipping, Adam,  scheduler patience 1, factor 0.5,  3 epochs\n",
    "\n",
    "- Test metrics\n",
    "- Result Roc Auc: 0.9704846301749726\n",
    "- Result BCE loss: 0.07693787664175034"
   ]
  },
  {
   "cell_type": "markdown",
   "metadata": {},
   "source": [
    "## Adam, scheduler patience 1, factor 0.5, 3 epochs\n",
    "- Test metrics\n",
    "- Result Roc Auc: 0.971751481642006\n",
    "- Result BCE loss: 0.06823492050170898"
   ]
  },
  {
   "cell_type": "markdown",
   "metadata": {
    "execution": {
     "iopub.execute_input": "2023-02-15T10:39:35.276887Z",
     "iopub.status.busy": "2023-02-15T10:39:35.275905Z",
     "iopub.status.idle": "2023-02-15T10:39:35.284054Z",
     "shell.execute_reply": "2023-02-15T10:39:35.282554Z",
     "shell.execute_reply.started": "2023-02-15T10:39:35.276852Z"
    }
   },
   "source": [
    "## Adam + AMSGrad, scheduler patience 1, factor 0.5, 3 epochs\n",
    "\n",
    "- Test metrics\n",
    "- Result Roc Auc: 0.9723275500704003\n",
    "- Result BCE loss: 0.06821506470441818"
   ]
  },
  {
   "cell_type": "markdown",
   "metadata": {
    "execution": {
     "iopub.execute_input": "2023-02-15T11:46:47.410980Z",
     "iopub.status.busy": "2023-02-15T11:46:47.410629Z",
     "iopub.status.idle": "2023-02-15T11:46:47.418392Z",
     "shell.execute_reply": "2023-02-15T11:46:47.416838Z",
     "shell.execute_reply.started": "2023-02-15T11:46:47.410948Z"
    }
   },
   "source": [
    "## Adam + AMSGrad, scheduler patience 10, factor 0.5, 3 epochs\n",
    "- Test metrics\n",
    "- Result Roc Auc: 0.9740753446181679\n",
    "- Result BCE loss: 0.0792461559176445"
   ]
  },
  {
   "cell_type": "markdown",
   "metadata": {
    "execution": {
     "iopub.execute_input": "2023-02-15T14:02:59.378114Z",
     "iopub.status.busy": "2023-02-15T14:02:59.377711Z",
     "iopub.status.idle": "2023-02-15T14:02:59.387246Z",
     "shell.execute_reply": "2023-02-15T14:02:59.385517Z",
     "shell.execute_reply.started": "2023-02-15T14:02:59.378081Z"
    }
   },
   "source": [
    "# Best\n",
    "## Adam + AMSGrad, scheduler patience 10, factor 0.25, 3 epochs\n",
    "- Test metrics\n",
    "- Result Roc Auc: 0.9752403365208738\n",
    "- Result BCE loss: 0.06853504478931427\n",
    "    "
   ]
  }
 ],
 "metadata": {
  "kernelspec": {
   "display_name": "Python 3 (ipykernel)",
   "language": "python",
   "name": "python3"
  },
  "language_info": {
   "codemirror_mode": {
    "name": "ipython",
    "version": 3
   },
   "file_extension": ".py",
   "mimetype": "text/x-python",
   "name": "python",
   "nbconvert_exporter": "python",
   "pygments_lexer": "ipython3",
   "version": "3.9.15"
  }
 },
 "nbformat": 4,
 "nbformat_minor": 4
}
