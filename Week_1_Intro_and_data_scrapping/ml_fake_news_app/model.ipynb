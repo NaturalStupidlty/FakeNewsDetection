{
 "cells": [
  {
   "cell_type": "code",
   "execution_count": 166,
   "id": "78770da3-f5d4-4e6c-b318-3b0989c184f6",
   "metadata": {
    "collapsed": true,
    "jupyter": {
     "outputs_hidden": true
    },
    "tags": []
   },
   "outputs": [
    {
     "name": "stdout",
     "output_type": "stream",
     "text": [
      "Requirement already satisfied: feedparser>=6.0.8 in /Applications/anaconda3/envs/ai_house_env/lib/python3.9/site-packages (6.0.10)\n",
      "Collecting pygooglenews==0.1.2\n",
      "  Using cached pygooglenews-0.1.2-py3-none-any.whl (10 kB)\n",
      "Installing collected packages: pygooglenews\n",
      "Successfully installed pygooglenews-0.1.2\n"
     ]
    }
   ],
   "source": [
    "!pip install -U --no-deps \"feedparser>=6.0.8\"\n",
    "!pip install --no-deps pygooglenews==0.1.2\n",
    "!pip install -U --no-deps \"dateparser>=1.0.0\"\n",
    "!pip install tzlocal\n",
    "!pip3 install newspaper3k"
   ]
  },
  {
   "cell_type": "code",
   "execution_count": 246,
   "id": "a3b205ca-8d1a-4e68-8ac5-c7dc28d46e1e",
   "metadata": {},
   "outputs": [
    {
     "name": "stderr",
     "output_type": "stream",
     "text": [
      "/var/folders/zn/scrcm7bn6xl2n15flz1swk6m0000gn/T/ipykernel_23303/1604985006.py:29: DeprecationWarning: Importing display from IPython.core.display is deprecated since IPython 7.14, please import from IPython display\n",
      "  from IPython.core.display import display, HTML\n"
     ]
    }
   ],
   "source": [
    "import re\n",
    "import numpy as np\n",
    "from newspaper import Article\n",
    "import pandas as pd\n",
    "from collections import Counter\n",
    "from pygooglenews import GoogleNews\n",
    "from dateutil import rrule\n",
    "from dateutil.relativedelta import relativedelta\n",
    "from datetime import datetime, timedelta\n",
    "\n",
    "import itertools\n",
    "import time\n",
    "import math\n",
    "\n",
    "import pandas as pd\n",
    "from multiprocessing import Pool\n",
    "from newspaper import Article\n",
    "from multiprocessing import cpu_count\n",
    "import time\n",
    "from collections import Counter\n",
    "from langdetect import detect\n",
    "from tqdm import tqdm\n",
    "import sys\n",
    "from collections import Counter\n",
    "from tqdm import tqdm\n",
    "\n",
    "%matplotlib inline\n",
    "import matplotlib.pyplot as plt\n",
    "from IPython.core.display import display, HTML"
   ]
  },
  {
   "cell_type": "code",
   "execution_count": 50,
   "id": "250dc19c-2096-489e-9755-d8804ebee4a3",
   "metadata": {},
   "outputs": [],
   "source": [
    "my_dir = '/Users/irinaevdokimova/Documents/ai_house_fake_news_detection/Week_2_Linear_and_Recurrent_models/homework'"
   ]
  },
  {
   "cell_type": "markdown",
   "id": "c6208e90-5145-45f7-8790-788948258141",
   "metadata": {},
   "source": [
    "### 1- parse https://rusdisinfo.voxukraine.org/"
   ]
  },
  {
   "cell_type": "code",
   "execution_count": 51,
   "id": "bfd3aabb-a5fe-49f1-9ad2-ddf19469b1c9",
   "metadata": {},
   "outputs": [],
   "source": [
    "import pandas as pd\n",
    "\n",
    "fake = pd.read_csv(my_dir + '/Disinfo narratives base eng.csv')"
   ]
  },
  {
   "cell_type": "code",
   "execution_count": 59,
   "id": "2a2d3a3a-d333-4ace-8289-cb9cad926e42",
   "metadata": {},
   "outputs": [],
   "source": [
    "fake_unique = fake.drop_duplicates(subset=['Debunking'], keep='first')"
   ]
  },
  {
   "cell_type": "code",
   "execution_count": 220,
   "id": "d6cd0246-da7b-4b80-9501-47244bcb4ae8",
   "metadata": {
    "collapsed": true,
    "jupyter": {
     "outputs_hidden": true
    },
    "tags": []
   },
   "outputs": [
    {
     "data": {
      "text/plain": [
       "id                   int64\n",
       "Narrative           object\n",
       "Fakes               object\n",
       "Disinfo_cases_en    object\n",
       "Date                object\n",
       "Countries           object\n",
       "Media               object\n",
       "Link                object\n",
       "Debunking           object\n",
       "dtype: object"
      ]
     },
     "execution_count": 220,
     "metadata": {},
     "output_type": "execute_result"
    }
   ],
   "source": [
    "fake_unique.dtypes"
   ]
  },
  {
   "cell_type": "markdown",
   "id": "6cfbadee-d3c6-4833-9af0-c5d2e7568747",
   "metadata": {},
   "source": [
    "### 2 - parse google news"
   ]
  },
  {
   "cell_type": "code",
   "execution_count": 176,
   "id": "c00c274c-c42c-49b4-8432-98ee873c9a4b",
   "metadata": {},
   "outputs": [
    {
     "data": {
      "text/plain": [
       "[datetime.datetime(2023, 1, 30, 22, 14, 57),\n",
       " datetime.datetime(2022, 12, 31, 22, 14, 57),\n",
       " datetime.datetime(2022, 12, 1, 22, 14, 57)]"
      ]
     },
     "execution_count": 176,
     "metadata": {},
     "output_type": "execute_result"
    }
   ],
   "source": [
    "news_count= 50\n",
    "dateTo = datetime.now()\n",
    "dateFrom = dateTo - relativedelta(months=2)\n",
    "interval = 30\n",
    "count = math.ceil((dateTo - dateFrom).days/interval)\n",
    "\n",
    "dates = list(rrule.rrule(rrule.DAILY, dtstart=dateFrom, count=count, interval=interval))\n",
    "dates.reverse()\n",
    "dates"
   ]
  },
  {
   "cell_type": "markdown",
   "id": "6540ad8f-f6ac-480d-aea1-609df83344d1",
   "metadata": {},
   "source": [
    "#### 2.1 - collect urls"
   ]
  },
  {
   "cell_type": "code",
   "execution_count": 180,
   "id": "e8eab759-b9af-45dd-a83e-bf04afd9bdb7",
   "metadata": {},
   "outputs": [],
   "source": [
    "lng = 'EN'\n",
    "lang=lng.lower()"
   ]
  },
  {
   "cell_type": "code",
   "execution_count": 187,
   "id": "b77cafda-7d7c-479b-9942-7023261d860b",
   "metadata": {},
   "outputs": [],
   "source": [
    "query ='ukraine'"
   ]
  },
  {
   "cell_type": "code",
   "execution_count": 189,
   "id": "256d0db5-9262-4d41-8115-977900549a8a",
   "metadata": {},
   "outputs": [
    {
     "name": "stderr",
     "output_type": "stream",
     "text": [
      "100%|█████████████████████████████████████████| 200/200 [04:47<00:00,  1.44s/it]\n"
     ]
    }
   ],
   "source": [
    "docs = {}\n",
    "for key in tqdm(range(0,200)):\n",
    "     \n",
    "    for dt_from in dates:\n",
    "        gn = GoogleNews(lang=lang)\n",
    "        dt_from, dt_to = str(dt_from).split(' ')[0], str(dt_from + relativedelta(days=interval)).split(' ')[0]\n",
    "        try:\n",
    "            search = gn.search('allintitle:' + query, from_=dt_from, to_=dt_to)\n",
    "            if len(search['entries']) == 0:\n",
    "                search = gn.search(query, from_=dt_from, to_=dt_to)\n",
    "        except:\n",
    "            try:\n",
    "                gn = GoogleNews(lang=lang)\n",
    "                search = gn.search('allintitle:' + query, from_=dt_from, to_=dt_to)\n",
    "                if len(search['entries']) == 0:\n",
    "                    search = gn.search(query, from_=dt_from, to_=dt_to)\n",
    "            except:\n",
    "                continue\n",
    "                \n",
    "        if key not in docs.keys():\n",
    "            docs[key] = []\n",
    "        try:\n",
    "            docs[key] += [case['link'] for i, case in enumerate(search['entries'])][:5]\n",
    "            if len(docs[key]) >= news_count:\n",
    "                docs[key] = docs[key][:news_count]\n",
    "                break\n",
    "            #print(key, len(docs[key]))\n",
    "        except:\n",
    "            continue"
   ]
  },
  {
   "cell_type": "code",
   "execution_count": 193,
   "id": "d5fc8205-8b7a-4e04-9172-e13d426129fa",
   "metadata": {
    "tags": []
   },
   "outputs": [],
   "source": [
    "df = pd.DataFrame(\n",
    "    columns=['Url'],\n",
    "    data = [(url) for key, urls in docs.items() for url in urls]\n",
    ")"
   ]
  },
  {
   "cell_type": "code",
   "execution_count": 202,
   "id": "8c2ec5c6-eddd-4001-ab18-30a822b30784",
   "metadata": {},
   "outputs": [],
   "source": [
    "df = df.iloc[0:100]"
   ]
  },
  {
   "cell_type": "markdown",
   "id": "733c44a2-6210-49ae-bc63-87f47b7784ce",
   "metadata": {},
   "source": [
    "#### 2.2 Scrape google news"
   ]
  },
  {
   "cell_type": "code",
   "execution_count": 203,
   "id": "b09d43f6-f498-422e-8ead-e91422bafcd4",
   "metadata": {},
   "outputs": [],
   "source": [
    "def scrape(lst):\n",
    "    try:\n",
    "        article = Article(lst[-1], fetch_images=False)\n",
    "        article.download()\n",
    "        article.parse()\n",
    "        return [lst[0], article.title + '. ' + article.text]\n",
    "    except:\n",
    "        return [lst[0], lst[1]]"
   ]
  },
  {
   "cell_type": "code",
   "execution_count": 204,
   "id": "b79ab36f-31de-44c1-ac17-5d26f5ddbb2f",
   "metadata": {
    "tags": []
   },
   "outputs": [
    {
     "name": "stderr",
     "output_type": "stream",
     "text": [
      "100%|█████████████████████████████████████████| 100/100 [00:59<00:00,  1.67it/s]\n"
     ]
    }
   ],
   "source": [
    "texts = []\n",
    "for i in tqdm(df.values.tolist()):\n",
    "    scrapped =  scrape(i)\n",
    "    texts.append(scrapped)"
   ]
  },
  {
   "cell_type": "code",
   "execution_count": 211,
   "id": "f94dac1e-f865-444e-bd85-49eb0110877a",
   "metadata": {},
   "outputs": [],
   "source": [
    "only_text = [j[1] for j in texts]"
   ]
  },
  {
   "cell_type": "markdown",
   "id": "a61f6243-a754-4373-982d-4da5a1996a00",
   "metadata": {},
   "source": [
    "#### 3 - create train data set"
   ]
  },
  {
   "cell_type": "code",
   "execution_count": 274,
   "id": "b3c88bf9-8f11-46ec-b34e-35ed982979ce",
   "metadata": {},
   "outputs": [],
   "source": [
    "train_df_good = pd.DataFrame()\n",
    "train_df_good['text'] = only_text\n",
    "train_df_good['label'] = 1"
   ]
  },
  {
   "cell_type": "code",
   "execution_count": 275,
   "id": "33ac6ae5-3ec3-4701-bb7b-0e6e014e89d4",
   "metadata": {},
   "outputs": [],
   "source": [
    "train_df_bad = pd.DataFrame()\n",
    "train_df_bad['text'] = fake_unique['Debunking']\n",
    "train_df_bad['label'] = 0"
   ]
  },
  {
   "cell_type": "code",
   "execution_count": 276,
   "id": "9a9df8f9-ad1a-49e1-8422-25bf6a302ed9",
   "metadata": {
    "tags": []
   },
   "outputs": [
    {
     "name": "stderr",
     "output_type": "stream",
     "text": [
      "/var/folders/zn/scrcm7bn6xl2n15flz1swk6m0000gn/T/ipykernel_23303/931660309.py:1: FutureWarning: The frame.append method is deprecated and will be removed from pandas in a future version. Use pandas.concat instead.\n",
      "  train_overall = train_df_good.append(train_df_bad)\n"
     ]
    }
   ],
   "source": [
    "train_overall = train_df_good.append(train_df_bad)"
   ]
  },
  {
   "cell_type": "code",
   "execution_count": 277,
   "id": "5f805105-bc3f-4600-832f-e401588c28f8",
   "metadata": {},
   "outputs": [
    {
     "data": {
      "text/plain": [
       "0      Ukraine war: Russia planning 24 February offen...\n",
       "1      Russia is preparing for 'maximum escalation' i...\n",
       "2      Fighting ramps up in eastern Ukraine in 'devas...\n",
       "3      Russia-Ukraine War Ukraine Carries Out Wide An...\n",
       "4      Russia-Ukraine war at a glance: what we know o...\n",
       "                             ...                        \n",
       "484    <p>Most of the messages claiming ostensible Uk...\n",
       "514    <p>Ukraine did not steal Russian gas. Similar ...\n",
       "545    <p>Representatives of the pseudo-republics, th...\n",
       "578    <p>Russian propaganda was spread in the church...\n",
       "586    <p>Russia’s accusations of supporting the war ...\n",
       "Name: text, Length: 179, dtype: object"
      ]
     },
     "execution_count": 277,
     "metadata": {},
     "output_type": "execute_result"
    }
   ],
   "source": [
    "train_overall['text']"
   ]
  },
  {
   "cell_type": "markdown",
   "id": "e805fba9-f462-4052-96fa-db6dbb45a28a",
   "metadata": {},
   "source": [
    "#### 3.1 - preprocess text for naive bayes"
   ]
  },
  {
   "cell_type": "code",
   "execution_count": 289,
   "id": "cdb9e40a-e813-44d0-ad7e-9839a8659afb",
   "metadata": {},
   "outputs": [
    {
     "name": "stderr",
     "output_type": "stream",
     "text": [
      "/var/folders/zn/scrcm7bn6xl2n15flz1swk6m0000gn/T/ipykernel_23303/2096729971.py:6: FutureWarning: The default value of regex will change from True to False in a future version.\n",
      "  train_overall['text'] = train_overall['text'].str.replace('\\d+','')\n"
     ]
    }
   ],
   "source": [
    "#Removes the punctuation from the real_df data frame.\n",
    "train_overall['text'] = train_overall['text'].str.replace('\\n','')\n",
    "train_overall['text'] = train_overall['text'].str.replace('<p>','')\n",
    "train_overall['text'] = train_overall['text'].apply(lambda x: re.sub(r'[^\\w\\s]','',str(x)))\n",
    "#Removes the numerals from the real_df data frame.\n",
    "train_overall['text'] = train_overall['text'].str.replace('\\d+','')\n",
    "#Removes the quotation marks from the real_df data frame.\n",
    "train_overall['text'] = train_overall['text'].apply(lambda x: re.sub(r'\\\"', '',str(x)))\n",
    "#Lower case for all text.\n",
    "train_overall['text'] = train_overall['text'].str.lower()"
   ]
  },
  {
   "cell_type": "code",
   "execution_count": 290,
   "id": "02276519-a60f-4b5f-a67b-561968d830e9",
   "metadata": {},
   "outputs": [],
   "source": [
    "train_overall = train_overall.sample(frac=1)"
   ]
  },
  {
   "cell_type": "code",
   "execution_count": 291,
   "id": "a1bde19d-1037-4a8e-a178-52af1f506ed7",
   "metadata": {},
   "outputs": [],
   "source": [
    "from sklearn.feature_extraction.text import CountVectorizer\n",
    "from sklearn.model_selection import train_test_split\n",
    "from sklearn.naive_bayes import MultinomialNB\n",
    "from sklearn.metrics import classification_report, confusion_matrix\n",
    "import pickle"
   ]
  },
  {
   "cell_type": "code",
   "execution_count": 292,
   "id": "53b16a8e-2422-4049-bd4e-4fcbc4e26496",
   "metadata": {},
   "outputs": [],
   "source": [
    "X = train_overall['text'].values\n",
    "y = train_overall['label'].values\n",
    "vector = CountVectorizer(stop_words = 'english')\n",
    "#Fits/transforms the count vectorizor on the X variable\n",
    "X = vector.fit_transform(X)\n",
    "X_train, X_test, y_train, y_test = train_test_split(X, y, test_size = 0.25, random_state = 30)\n",
    "bayes_pred = MultinomialNB()\n",
    "bayes_pred.fit(X_train, y_train)\n",
    "#Creates predictions based on the model\n",
    "predictions = bayes_pred.predict(X_test)"
   ]
  },
  {
   "cell_type": "code",
   "execution_count": 293,
   "id": "b0edf91a-413d-461d-8989-94d2392bcb82",
   "metadata": {},
   "outputs": [
    {
     "name": "stdout",
     "output_type": "stream",
     "text": [
      "[[25  0]\n",
      " [ 0 20]]\n",
      "\n",
      "\n",
      "              precision    recall  f1-score   support\n",
      "\n",
      "           0       1.00      1.00      1.00        25\n",
      "           1       1.00      1.00      1.00        20\n",
      "\n",
      "    accuracy                           1.00        45\n",
      "   macro avg       1.00      1.00      1.00        45\n",
      "weighted avg       1.00      1.00      1.00        45\n",
      "\n"
     ]
    }
   ],
   "source": [
    "print(confusion_matrix(y_test, predictions))\n",
    "print('\\n')\n",
    "print(classification_report(y_test, predictions))"
   ]
  },
  {
   "cell_type": "code",
   "execution_count": 294,
   "id": "49ef18f5-8c9a-4262-b50e-c7d4434f1510",
   "metadata": {},
   "outputs": [],
   "source": [
    "name = 'bayes_model.pkl'\n",
    "pickle.dump(bayes_pred, open(name, 'wb'))"
   ]
  },
  {
   "cell_type": "code",
   "execution_count": null,
   "id": "599b62fa-bc4b-4011-8993-aacfc45e43d3",
   "metadata": {},
   "outputs": [],
   "source": []
  }
 ],
 "metadata": {
  "kernelspec": {
   "display_name": "Python 3 (ipykernel)",
   "language": "python",
   "name": "python3"
  },
  "language_info": {
   "codemirror_mode": {
    "name": "ipython",
    "version": 3
   },
   "file_extension": ".py",
   "mimetype": "text/x-python",
   "name": "python",
   "nbconvert_exporter": "python",
   "pygments_lexer": "ipython3",
   "version": "3.9.15"
  }
 },
 "nbformat": 4,
 "nbformat_minor": 5
}
